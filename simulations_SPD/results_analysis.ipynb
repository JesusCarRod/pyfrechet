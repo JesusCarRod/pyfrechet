{
 "cells": [
  {
   "cell_type": "markdown",
   "metadata": {},
   "source": [
    "# Results of Simulation of SPD matrices"
   ]
  },
  {
   "cell_type": "code",
   "execution_count": null,
   "metadata": {},
   "outputs": [],
   "source": [
    "import sys, os; sys.path.append(os.path.dirname(os.getcwd()))\n",
    "import pickle \n",
    "import numpy as np\n",
    "import pandas as pd\n",
    "from pyfrechet.metric_spaces import MetricData, LogCholesky, log_chol_to_spd, spd_to_log_chol\n",
    "\n",
    "import matplotlib.pyplot as plt\n",
    "import seaborn as sns"
   ]
  },
  {
   "cell_type": "code",
   "execution_count": null,
   "metadata": {},
   "outputs": [],
   "source": [
    "coverages=[]\n",
    "alpha=0.05\n",
    "M=LogCholesky(dim=2)\n",
    "\n",
    "for file in os.listdir(os.path.join(os.getcwd(), 'results')):\n",
    "    infile=open(os.path.join(os.getcwd(), 'results/'+file), 'rb')\n",
    "    result=pickle.load(infile)\n",
    "\n",
    "    Dalpha=np.percentile(result['oob_errors'], (1-alpha)*100)\n",
    "    coverages.append(np.mean(M.d(result['test_predictions'], \n",
    "                                 result['y_test_data']) <= Dalpha))\n",
    "\n",
    "    infile.close()"
   ]
  },
  {
   "cell_type": "code",
   "execution_count": null,
   "metadata": {},
   "outputs": [],
   "source": [
    "print(len(coverages))\n",
    "print(np.mean(coverages))"
   ]
  },
  {
   "cell_type": "code",
   "execution_count": null,
   "metadata": {},
   "outputs": [],
   "source": [
    "results=[]\n",
    "\n",
    "for file in os.listdir(os.path.join(os.getcwd(), 'results')):\n",
    "    infile=open(os.path.join(os.getcwd(), 'results/'+file), 'rb')\n",
    "    result=pickle.load(infile)\n",
    "\n",
    "    results.append(result)\n",
    "\n",
    "    infile.close()\n",
    "\n",
    "len(results)"
   ]
  },
  {
   "cell_type": "code",
   "execution_count": null,
   "metadata": {},
   "outputs": [],
   "source": [
    "sigmas=[0.1, 0.25, 0.5, 0.75, 1, 1.25, 1.5]\n",
    "\n",
    "def coverage_results(sigmas: list, sign_level: float=0.05) -> pd.DataFrame:\n",
    "    \n",
    "    coverage_df=pd.DataFrame(columns=['sample_index', 'train_size', 'sigma', 'coverage', 'OOB_quantile'])\n",
    "\n",
    "    for file in os.listdir(os.path.join(os.getcwd(), 'results')):\n",
    "        infile=open(os.path.join(os.getcwd(), 'results/'+file), 'rb')\n",
    "        result=pickle.load(infile)\n",
    "        infile.close()\n",
    "\n",
    "        Dalpha=np.percentile(result['oob_errors'], (1-sign_level)*100)\n",
    "        coverage_df=pd.concat([coverage_df, \n",
    "                               pd.DataFrame({'sample_index': int(file.split('_')[1][4:]),\n",
    "                                             'train_size': int(file.split('_')[2][1:]),\n",
    "                                             'sigma': sigmas[int(file.split('_')[3][5:])-1],\n",
    "                                             'coverage': np.mean(M.d(result['test_predictions'], result['y_test_data']) <= Dalpha),\n",
    "                                             'OOB_quantile': Dalpha}, index=pd.RangeIndex(0,1))], \n",
    "                                ignore_index=True)\n",
    "        \n",
    "    coverage_df['train_size']=coverage_df['train_size'].astype('int')\n",
    "    coverage_df['sample_index']=coverage_df['sample_index'].astype('int')\n",
    "        \n",
    "    return coverage_df\n",
    "\n",
    "sign_level=0.05\n",
    "coverage_df=coverage_results(sigmas=sigmas, sign_level=sign_level)\n",
    "print(coverage_df.info())\n",
    "coverage_df"
   ]
  },
  {
   "cell_type": "code",
   "execution_count": null,
   "metadata": {},
   "outputs": [],
   "source": [
    "sns.set_style(\"whitegrid\")\n",
    "\n",
    "plt.figure()\n",
    "sns.boxplot(data=coverage_df, x='train_size', y='coverage', hue='train_size', palette=sns.color_palette(),\n",
    "            flierprops={\"marker\": \"x\"})\n",
    "x_ticks, _=plt.xticks()\n",
    "for i in range(len(x_ticks)):\n",
    "    mean=coverage_df[coverage_df.train_size==sorted(coverage_df['train_size'].unique())[i]]['coverage'].mean()\n",
    "    plt.plot(x_ticks[i], mean, marker='o', color='white')\n",
    "plt.axhline(y=1-sign_level, color='black', linestyle='dashed')\n",
    "plt.legend().remove()\n",
    "plt.title('Coverages vs. Training sample size')\n",
    "plt.xlabel('Training sample size')\n",
    "plt.ylabel('Coverage')\n",
    "plt.show()"
   ]
  },
  {
   "cell_type": "code",
   "execution_count": null,
   "metadata": {},
   "outputs": [],
   "source": [
    "plt.figure(figsize=(7,5))\n",
    "sns.boxplot(data=coverage_df, x='sigma', y='coverage', hue='train_size', palette=sns.color_palette(),\n",
    "            flierprops={'marker':'x'})\n",
    "plt.title('Coverages vs. Sigma')\n",
    "plt.axhline(y=1-sign_level, color='black', linestyle='dashed')\n",
    "plt.legend()#.remove()\n",
    "plt.show()"
   ]
  },
  {
   "cell_type": "code",
   "execution_count": null,
   "metadata": {},
   "outputs": [],
   "source": [
    "sns.set_style('whitegrid')\n",
    "fig, axs=plt.subplots(1,2, figsize=(10,5), gridspec_kw={'width_ratios': [1,3]})\n",
    "\n",
    "sns.boxplot(data=coverage_df, x='train_size', y='coverage', hue='train_size', \n",
    "            palette=sns.color_palette(), ax=axs[0], flierprops={\"marker\": \"x\"})\n",
    "x_ticks=axs[0].get_xticks()\n",
    "for i in range(len(x_ticks)):\n",
    "    mean=coverage_df[coverage_df.train_size==sorted(coverage_df['train_size'].unique())[i]]['coverage'].mean()\n",
    "    axs[0].plot(x_ticks[i], mean, marker='o', color='white')\n",
    "axs[0].axhline(y=1-sign_level, color='black', linestyle='dashed')\n",
    "axs[0].set_title('Coverages vs. Training sample size')\n",
    "axs[0].set_xlabel('Training sample size')\n",
    "axs[0].set_ylabel('Coverage')\n",
    "handles, labels = axs[0].get_legend_handles_labels()\n",
    "axs[0].legend().remove()\n",
    "\n",
    "sns.boxplot(data=coverage_df, x='sigma', y='coverage', hue='train_size', palette=sns.color_palette(),\n",
    "            flierprops={\"marker\": \"x\"}, ax=axs[1])\n",
    "axs[1].axhline(y=1-sign_level, color='black', linestyle='dashed')\n",
    "axs[1].legend().remove()\n",
    "axs[1].set_title('Coverages vs. Sigma')\n",
    "axs[1].set_xlabel('Sigma')\n",
    "axs[1].set_ylabel('Coverage')\n",
    "\n",
    "fig.legend(labels=labels, handles=handles, loc=\"lower center\", ncol=4,\n",
    "           title='Training sample size')\n",
    "plt.tight_layout()\n",
    "fig.subplots_adjust(bottom=0.2)\n",
    "plt.show()"
   ]
  },
  {
   "cell_type": "code",
   "execution_count": null,
   "metadata": {},
   "outputs": [],
   "source": [
    "plt.figure(figsize=(8,5))\n",
    "sns.boxplot(data=coverage_df, x='sigma', y='OOB_quantile', hue='train_size', palette=sns.color_palette(),\n",
    "            flierprops={'marker':'x'})\n",
    "plt.title('OOB radius vs. Sigma')\n",
    "plt.xlabel('Sigma')\n",
    "plt.ylabel('OOB radius')\n",
    "plt.legend(title='Training sample size')#.remove()\n",
    "plt.show()"
   ]
  },
  {
   "cell_type": "code",
   "execution_count": null,
   "metadata": {},
   "outputs": [],
   "source": []
  },
  {
   "cell_type": "code",
   "execution_count": null,
   "metadata": {},
   "outputs": [],
   "source": []
  },
  {
   "cell_type": "code",
   "execution_count": null,
   "metadata": {},
   "outputs": [],
   "source": []
  },
  {
   "cell_type": "code",
   "execution_count": null,
   "metadata": {},
   "outputs": [],
   "source": []
  }
 ],
 "metadata": {
  "language_info": {
   "name": "python"
  }
 },
 "nbformat": 4,
 "nbformat_minor": 2
}

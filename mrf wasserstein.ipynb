{
 "cells": [
  {
   "cell_type": "code",
   "execution_count": 1,
   "id": "3ca645e0",
   "metadata": {},
   "outputs": [],
   "source": [
    "import autograd.numpy as np\n",
    "\n",
    "import matplotlib.pyplot as plt\n",
    "import seaborn as sns\n",
    "from ipywidgets import *\n",
    "\n",
    "import wasserstein_1d as ws\n",
    "from distance_utils import *\n",
    "from mrf import rf, rf_weights\n",
    "from nw import nw_weights, epanechnikov, gaussian\n",
    "from scipy import stats "
   ]
  },
  {
   "cell_type": "code",
   "execution_count": 21,
   "id": "2f183c91",
   "metadata": {},
   "outputs": [],
   "source": [
    "STD_NORMAL_Q = stats.norm.ppf(ws.GRID)\n",
    "\n",
    "# function regularize_by_alpha(y, bins, α=0.01)\n",
    "#     if minimum(y) >= α || all(diff(y) .== 0)\n",
    "#         y\n",
    "#     else\n",
    "#         sup_len = bins[end] - bins[1]\n",
    "#         total_bump_area = sup_len * α\n",
    "#         @assert total_bump_area < 1\n",
    "#         γ = (α - minimum(y)) / (1 - total_bump_area)\n",
    "#         (y .+ γ) ./ (1 + γ * sup_len)\n",
    "#     end\n",
    "# end\n",
    "\n",
    "def m(x, mu0=0, beta=3, sig0=3, gam=0.5, nu1=0.25, nu2=1):\n",
    "    mu = mu0 + beta*5*x[1]*x[2]\n",
    "    sig = sig0 + gam*x[2]*x[2]\n",
    "    Q0 = mu + sig * STD_NORMAL_Q\n",
    "    return (20 + Q0) / 40 # scale to [0, 1]\n",
    "    \n",
    "def sample_linear_transport(x, mu0=0, beta=3, sig0=3, gam=0.5, nu1=0.25, nu2=1):\n",
    "    mu = np.random.normal(loc=mu0 + beta*5*x[1]*x[2], scale=np.sqrt(nu1))\n",
    "    \n",
    "    \n",
    "    sig = np.random.gamma(shape=(sig0 + gam*x[2]*x[2])**2/nu2, scale=nu2 / (sig0 + gam*x[2]*x[2]))\n",
    "    \n",
    "    Q0 = mu + sig * STD_NORMAL_Q\n",
    "    \n",
    "    return (20 + Q0) / 40 # scale to [0, 1]\n",
    "    \n",
    "def gen_data(N, J=5, d=3):\n",
    "    compose = lambda f, g: np.interp(g, ws.GRID, f)\n",
    "    x = np.random.rand(N*d).reshape((N,d))\n",
    "    y = np.array([ compose(ws.noise(J), sample_linear_transport(x[i,:])) for i in range(N)])\n",
    "\n",
    "    return x, y\n",
    "\n",
    "N = 200; J=20; d=10\n",
    "x_train, y_train = gen_data(N,J,d)\n",
    "x_test, y_test = gen_data(N,J,d)"
   ]
  },
  {
   "cell_type": "code",
   "execution_count": 22,
   "id": "901d7f67",
   "metadata": {},
   "outputs": [
    {
     "name": "stderr",
     "output_type": "stream",
     "text": [
      "/Users/matthieubulte/Documents/university/phd/merf/nw.py:11: RuntimeWarning: invalid value encountered in divide\n",
      "  return w / w.sum()\n"
     ]
    },
    {
     "name": "stdout",
     "output_type": "stream",
     "text": [
      "0.01 nan\n",
      "0.06210526315789474 nan\n",
      "0.11421052631578947 nan\n",
      "0.16631578947368422 nan\n",
      "0.21842105263157896 nan\n",
      "0.2705263157894737 nan\n",
      "0.32263157894736844 nan\n",
      "0.37473684210526315 nan\n",
      "0.4268421052631579 nan\n",
      "0.4789473684210527 nan\n",
      "0.5310526315789474 nan\n",
      "0.5831578947368421 nan\n",
      "0.6352631578947369 nan\n",
      "0.6873684210526316 nan\n",
      "0.7394736842105263 nan\n",
      "0.791578947368421 nan\n",
      "0.8436842105263158 nan\n",
      "0.8957894736842106 nan\n",
      "0.9478947368421053 0.0029039849367885734\n",
      "1.0 0.003026746562673789\n"
     ]
    }
   ],
   "source": [
    "def nw_err(lam):\n",
    "    err = 0\n",
    "    for i in range(x_test.shape[0]):\n",
    "        err += ws.d(y_test[i,:], ws.fm(y_train, nw_weights(x_test[i,:], x_train, epanechnikov, lam)))**2\n",
    "    return err/x_test.shape[0]\n",
    "\n",
    "for lam in np.linspace(0.01, 1, 20):\n",
    "    print(lam, nw_err(lam))"
   ]
  },
  {
   "cell_type": "code",
   "execution_count": 25,
   "id": "204e4f39",
   "metadata": {},
   "outputs": [
    {
     "name": "stdout",
     "output_type": "stream",
     "text": [
      "CPU times: user 7.49 s, sys: 159 ms, total: 7.65 s\n",
      "Wall time: 1.02 s\n"
     ]
    }
   ],
   "source": [
    "%%time\n",
    "\n",
    "D = D_mat(ws.d, y_train)\n",
    "\n",
    "# forest = rf(1000, x_train, D, 350)\n",
    "# forest = rf(500, x_train, D, 150)\n",
    "\n",
    "preds = np.zeros((2, x_test.shape[0], y_test.shape[1]))\n",
    "for i in range(x_test.shape[0]):\n",
    "    preds[0,i,:] = ws.fm(y_train, rf_weights(forest, x_test[i,:]))\n",
    "    preds[1,i,:] = ws.fm(y_train, nw_weights(x_test[i,:], x_train, epanechnikov, 1))"
   ]
  },
  {
   "cell_type": "code",
   "execution_count": 26,
   "id": "1fb2240b",
   "metadata": {},
   "outputs": [
    {
     "name": "stdout",
     "output_type": "stream",
     "text": [
      "[0.00033884 0.00253617] 0.13360331847213025\n",
      "[0.00107665 0.00302675] 0.3557127589429954\n"
     ]
    },
    {
     "data": {
      "image/png": "[encoded data removed]",
      "text/plain": [
       "<Figure size 640x480 with 2 Axes>"
      ]
     },
     "metadata": {},
     "output_type": "display_data"
    }
   ],
   "source": [
    "%matplotlib inline\n",
    "\n",
    "theo_errs = np.zeros((2, x_test.shape[0]))\n",
    "errs = np.zeros((2, x_test.shape[0]))\n",
    "for i in range(x_test.shape[0]):\n",
    "    theo_errs[0,i] = ws.d(m(x_test[i]), preds[0,i,:])**2\n",
    "    theo_errs[1,i] = ws.d(m(x_test[i]), preds[1,i,:])**2\n",
    "    errs[0,i] = ws.d(y_test[i], preds[0,i,:])**2\n",
    "    errs[1,i] = ws.d(y_test[i], preds[1,i,:])**2\n",
    "\n",
    "plt.subplot(1,2,1)\n",
    "plt.ylim(-0.01, 0.04)\n",
    "plt.boxplot(errs.T)\n",
    "plt.subplot(1,2,2)\n",
    "plt.ylim(-0.010, 0.04)\n",
    "plt.boxplot(theo_errs.T)\n",
    "\n",
    "_e = theo_errs.mean(axis=1); print(_e, _e[0]/_e[1])\n",
    "_e = errs.mean(axis=1); print(_e, _e[0]/_e[1])\n",
    "\n",
    "\n",
    "# N=400; s=350; J=20; d=3\n",
    "# [0.00025194 0.00026428] 0.953284280254688\n",
    "# [0.00095082 0.00100687] 0.944330134541712\n",
    "\n",
    "\n",
    "# N=200; s=150; J=20; d=20\n",
    "# [0.00035953 0.00379374] 0.09477055816174629\n",
    "# [0.00103223 0.00427651] 0.24137142462410738\n",
    "\n",
    "# N=200; s=150; J=20; d=3\n",
    "# [0.00039429 0.00039929] 0.9874933750528989\n",
    "# [0.00102956 0.00105937] 0.9718606964033686\n",
    "\n",
    "# N=100; s=80; J=20; d=20\n",
    "# [0.00101778 0.00340443] 0.2989582234836014\n",
    "# [0.00170774 0.00417885] 0.4086635187544838\n",
    "\n",
    "# N=100; s=80; J=20; d=3\n",
    "# [0.00069322 0.00103881] 0.6673205218115806\n",
    "# [0.00144751 0.00142333] 1.0169880332104437\n"
   ]
  },
  {
   "cell_type": "code",
   "execution_count": 27,
   "id": "cd199e81",
   "metadata": {},
   "outputs": [
    {
     "data": {
      "text/plain": [
       "(0.8602941179000505, 0.6072508545516133)"
      ]
     },
     "execution_count": 27,
     "metadata": {},
     "output_type": "execute_result"
    }
   ],
   "source": [
    "fmean = ws.fm(y_train, np.ones(N)/N)\n",
    "fvar = np.sum([ ws.d(fmean, y_test[i,:])**2 for i in range(N) ])\n",
    "\n",
    "# N=200; s=150; J=20; d=3\n",
    "# (0.8607352116938509, 0.8603832277524206)\n",
    "\n",
    "\n",
    "# N=200; s=150; J=20; d=10\n",
    "# (0.8602941179000505, 0.6072508545516133)\n",
    "\n",
    "\n",
    "1 - errs[0,:].sum() / fvar, 1 - errs[1,:].sum() / fvar"
   ]
  }
 ],
 "metadata": {
  "kernelspec": {
   "display_name": "Python 3 (ipykernel)",
   "language": "python",
   "name": "python3"
  },
  "language_info": {
   "codemirror_mode": {
    "name": "ipython",
    "version": 3
   },
   "file_extension": ".py",
   "mimetype": "text/x-python",
   "name": "python",
   "nbconvert_exporter": "python",
   "pygments_lexer": "ipython3",
   "version": "3.9.16"
  }
 },
 "nbformat": 4,
 "nbformat_minor": 5
}

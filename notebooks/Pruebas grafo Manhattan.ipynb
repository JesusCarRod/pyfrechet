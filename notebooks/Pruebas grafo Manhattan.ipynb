{
 "cells": [
  {
   "cell_type": "code",
   "execution_count": 1,
   "metadata": {},
   "outputs": [
    {
     "ename": "ModuleNotFoundError",
     "evalue": "No module named 'basemap'",
     "output_type": "error",
     "traceback": [
      "\u001b[1;31m---------------------------------------------------------------------------\u001b[0m",
      "\u001b[1;31mModuleNotFoundError\u001b[0m                       Traceback (most recent call last)",
      "Cell \u001b[1;32mIn[1], line 5\u001b[0m\n\u001b[0;32m      2\u001b[0m \u001b[38;5;28;01mimport\u001b[39;00m \u001b[38;5;21;01mmatplotlib\u001b[39;00m\u001b[38;5;21;01m.\u001b[39;00m\u001b[38;5;21;01mpyplot\u001b[39;00m \u001b[38;5;28;01mas\u001b[39;00m \u001b[38;5;21;01mplt\u001b[39;00m\n\u001b[0;32m      3\u001b[0m \u001b[38;5;66;03m# from mpl_toolkits.basemap import Basemap\u001b[39;00m\n\u001b[0;32m      4\u001b[0m \u001b[38;5;66;03m# from matplotlib.mpl_toolkits.basemap import Basemap\u001b[39;00m\n\u001b[1;32m----> 5\u001b[0m \u001b[38;5;28;01mfrom\u001b[39;00m \u001b[38;5;21;01mbasemap\u001b[39;00m \u001b[38;5;28;01mimport\u001b[39;00m Basemap\n\u001b[0;32m      6\u001b[0m \u001b[38;5;28;01mimport\u001b[39;00m \u001b[38;5;21;01mnumpy\u001b[39;00m \u001b[38;5;28;01mas\u001b[39;00m \u001b[38;5;21;01mnp\u001b[39;00m\n",
      "\u001b[1;31mModuleNotFoundError\u001b[0m: No module named 'basemap'"
     ]
    }
   ],
   "source": [
    "import networkx as nx\n",
    "import matplotlib.pyplot as plt\n",
    "# from mpl_toolkits.basemap import Basemap\n",
    "# from matplotlib.mpl_toolkits.basemap import Basemap\n",
    "from basemap import Basemap\n",
    "import numpy as np"
   ]
  },
  {
   "cell_type": "code",
   "execution_count": null,
   "metadata": {},
   "outputs": [],
   "source": [
    "# Example coordinates of locations in Manhattan (latitude, longitude)\n",
    "locations = {\n",
    "    0: (40.7831, -73.9712),  # Central Park\n",
    "    1: (40.748817, -73.985428),  # Empire State Building\n",
    "    2: (40.730610, -73.935242),  # East Village\n",
    "    3: (40.712776, -74.005974),  # Wall Street\n",
    "}\n",
    "\n",
    "# Example weighted adjacency matrix\n",
    "adj_matrix = np.array([[0, 2, 0, 3],\n",
    "                       [2, 0, 1, 0],\n",
    "                       [0, 1, 0, 4],\n",
    "                       [3, 0, 4, 0]])\n",
    "\n",
    "# Create a graph from the adjacency matrix\n",
    "G = nx.from_numpy_array(adj_matrix)\n",
    "\n",
    "# Initialize the map\n",
    "plt.figure(figsize=(10, 8))\n",
    "m = Basemap(projection='merc',\n",
    "            llcrnrlat=40.68, urcrnrlat=40.85,\n",
    "            llcrnrlon=-74.03, urcrnrlon=-73.90,\n",
    "            resolution='i')\n",
    "\n",
    "# Draw map details\n",
    "m.drawcoastlines()\n",
    "m.drawcountries()\n",
    "m.drawstates()\n",
    "m.drawrivers()\n",
    "m.drawmapboundary(fill_color='aqua')\n",
    "m.fillcontinents(color='lightgray', lake_color='aqua')\n",
    "m.drawparallels(np.arange(40.68, 40.85, 0.02), labels=[1, 0, 0, 0])\n",
    "m.drawmeridians(np.arange(-74.03, -73.90, 0.02), labels=[0, 0, 0, 1])\n",
    "\n",
    "# Project coordinates to the map\n",
    "mapped_locations = {node: m(lon, lat) for node, (lat, lon) in locations.items()}\n",
    "\n",
    "# Draw the nodes\n",
    "for node, (x, y) in mapped_locations.items():\n",
    "    m.plot(x, y, 'o', markersize=10, color='red')\n",
    "    plt.text(x, y, f'{node}', fontsize=12, ha='right')\n",
    "\n",
    "# Draw the edges with weights\n",
    "for i, j, weight in G.edges(data='weight'):\n",
    "    x1, y1 = mapped_locations[i]\n",
    "    x2, y2 = mapped_locations[j]\n",
    "    m.plot([x1, x2], [y1, y2], 'k-', lw=weight)  # Use weight for line width\n",
    "\n",
    "plt.title(\"Network Graph on Manhattan Map with Weighted Edges\")\n",
    "plt.show()\n"
   ]
  }
 ],
 "metadata": {
  "kernelspec": {
   "display_name": "base",
   "language": "python",
   "name": "python3"
  },
  "language_info": {
   "codemirror_mode": {
    "name": "ipython",
    "version": 3
   },
   "file_extension": ".py",
   "mimetype": "text/x-python",
   "name": "python",
   "nbconvert_exporter": "python",
   "pygments_lexer": "ipython3",
   "version": "3.9.7"
  }
 },
 "nbformat": 4,
 "nbformat_minor": 2
}

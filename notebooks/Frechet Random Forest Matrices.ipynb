{
 "cells": [
  {
   "cell_type": "markdown",
   "metadata": {},
   "source": [
    "# Frechet random forests for Symmetric Positive Definite matrices (SPD)"
   ]
  },
  {
   "cell_type": "code",
   "execution_count": 1,
   "metadata": {},
   "outputs": [
    {
     "name": "stderr",
     "output_type": "stream",
     "text": [
      "INFO: Using numpy backend\n"
     ]
    }
   ],
   "source": [
    "import sys, os; sys.path.append(os.path.dirname(os.getcwd())) \n",
    "\n",
    "import matplotlib.pyplot as plt\n",
    "# from ipywidgets import *\n",
    "\n",
    "from typing import Union\n",
    "\n",
    "import numpy as np\n",
    "import pandas as pd\n",
    "from scipy.linalg import expm\n",
    "from sklearn.model_selection import train_test_split\n",
    "from sklearn.utils.validation import check_is_fitted\n",
    "from sklearn.preprocessing import MinMaxScaler\n",
    "from scipy.stats import wishart\n",
    "# from sklearn.model_selection import cross_val_score\n",
    "# from sklearn.model_selection import GridSearchCV\n",
    "# from sklearn import neighbors, clone\n",
    "\n",
    "\n",
    "from pyfrechet.metric_spaces import MetricData, Euclidean, LogCholesky, spd_to_log_chol, log_chol_to_spd\n",
    "# from pyfrechet.regression.frechet_regression import LocalFrechet, GlobalFrechet\n",
    "# from pyfrechet.regression.kernels import NadarayaWatson, gaussian, epanechnikov\n",
    "# from pyfrechet.regression.knn import KNearestNeighbours\n",
    "from pyfrechet.regression.bagged_regressor import BaggedRegressor\n",
    "from pyfrechet.regression.trees import Tree\n",
    "from pyfrechet.metrics import mse"
   ]
  },
  {
   "cell_type": "markdown",
   "metadata": {},
   "source": [
    "## Simulation from R. Yu paper:"
   ]
  },
  {
   "cell_type": "code",
   "execution_count": 2,
   "metadata": {},
   "outputs": [],
   "source": [
    "def sim_matrix_normal_one(M: np.ndarray, var: float,\n",
    "                      random_state: Union[None, int]=None) -> np.ndarray:\n",
    "    \"\"\"\n",
    "    Sample one observation from a symmetric matrix variate normal distribution with mean\n",
    "    matrix M and variance parameter var. See:\n",
    "\n",
    "    REFERENCE:\n",
    "    Qi Zhang, Lingzhou Xue, and Bing Li. Dimension reduction for Fréchet regression. Journal of the\n",
    "    American Statistical Association, pages 1-15, 2023.\n",
    "    \"\"\"\n",
    "    d=M.shape[0]\n",
    "    np.random.seed(random_state)\n",
    "    Z=np.zeros(shape=(d,d))\n",
    "    Z[np.diag_indices(d)]=np.random.normal(size=d, loc=0, scale=1)\n",
    "    Z[np.tril_indices(d, k=-1)]=np.random.normal(size=np.tril_indices(d, k=-1)[0].size, loc=0, scale=0.5)\n",
    "    Z[np.triu_indices(d, k=1)]=Z[np.tril_indices(d, k=-1)]\n",
    "    A=M+np.sqrt(var)*Z\n",
    "    return A\n",
    "\n",
    "def sim_matrix_normal(M: np.ndarray, var: float,\n",
    "                      size: int=1,\n",
    "                      random_state: Union[None, int]=None) -> list:\n",
    "    \"\"\"\n",
    "    Returns (a list) a sample of the size specified from a symmetric matrix variate normal distribution\n",
    "    with mean matrix M and variance parameter var.\n",
    "    (See sim_matrix_normal_one() function for details)\n",
    "    \"\"\"\n",
    "    d=M.shape[0]\n",
    "    np.random.seed(random_state)\n",
    "    sample=[]\n",
    "\n",
    "    for n in range(size):\n",
    "        sample.append(sim_matrix_normal_one(M, var))\n",
    "    return sample"
   ]
  },
  {
   "cell_type": "code",
   "execution_count": 117,
   "metadata": {},
   "outputs": [
    {
     "data": {
      "text/plain": [
       "[array([[1.73183679, 1.64352189, 3.1050673 ],\n",
       "        [1.64352189, 3.81393386, 3.89406265],\n",
       "        [3.1050673 , 3.89406265, 1.50385249]]),\n",
       " array([[0.59656439, 1.66517604, 3.34273242],\n",
       "        [1.66517604, 5.17889745, 3.38975502],\n",
       "        [3.34273242, 3.38975502, 0.03211604]]),\n",
       " array([[-0.28297526,  2.18016443,  2.8083158 ],\n",
       "        [ 2.18016443,  5.71535414,  3.70793655],\n",
       "        [ 2.8083158 ,  3.70793655, -0.17300143]])]"
      ]
     },
     "execution_count": 117,
     "metadata": {},
     "output_type": "execute_result"
    }
   ],
   "source": [
    "# Some checkings\n",
    "M=np.array([[1,2,3],\n",
    "            [2,5,4],\n",
    "            [3,4,0]])\n",
    "\n",
    "sim_matrix_normal(M, 1, size=3, random_state=100)"
   ]
  },
  {
   "cell_type": "code",
   "execution_count": null,
   "metadata": {},
   "outputs": [],
   "source": []
  },
  {
   "cell_type": "markdown",
   "metadata": {},
   "source": [
    "### Scenario 1"
   ]
  },
  {
   "cell_type": "code",
   "execution_count": 4,
   "metadata": {},
   "outputs": [],
   "source": [
    "def rho(X: np.ndarray, beta: np.ndarray) -> float:\n",
    "    return np.cos(4*np.pi*np.dot(X, beta))\n",
    "\n",
    "def DX(X: np.ndarray, beta: np.ndarray) -> np.ndarray:\n",
    "    \"\"\"\n",
    "    Return the matrix D(X) for predictor values X and parameter vector beta\n",
    "    as in simulation of [1].\n",
    "\n",
    "    REFERENCE:\n",
    "    [1] Random Forest Weighted Local Frechet Regression (R. Yu)\n",
    "    \"\"\"\n",
    "    return np.array([[1, rho(X, beta)],\n",
    "                     [rho(X, beta), 1]])\n"
   ]
  },
  {
   "cell_type": "code",
   "execution_count": 5,
   "metadata": {},
   "outputs": [],
   "source": [
    "beta2=np.array([0.75, 0.25])\n",
    "beta5=np.array([0.1, 0.2, 0.3, 0.4, 0])\n",
    "beta10=np.array([0.1, 0.2, 0.3, 0.4, 0, 0, 0, 0, 0, 0])\n",
    "beta20=np.zeros(shape=20); beta20[[0,1,2,3]]=[0.1, 0.2, 0.3, 0.4]; beta20[[-4, -3, -2, -1]]=[0.1, 0.2, 0.3, 0.4]; beta20=beta20/2"
   ]
  },
  {
   "cell_type": "code",
   "execution_count": 6,
   "metadata": {},
   "outputs": [],
   "source": [
    "def sim_DX(beta: np.ndarray, size: int) -> tuple[list, list]:\n",
    "    \"\"\"\n",
    "    Function to sample predictors (X_1,...,X_p) following U([0,1]^p) with p=beta.size and its\n",
    "    corresponding D(X) matrix (using DX() function above).\n",
    "    It returns a tuple of two lists, one for the sample of predictors and other for the sample\n",
    "    of matrices D(X).\n",
    "\n",
    "    beta is the vector of parameters for the simulation and must be provided\n",
    "    size is the number of samples to draw\n",
    "\n",
    "    REFERENCE:\n",
    "    [1] Random Forest Weighted Local Frechet Regression (R. Yu)\n",
    "    \"\"\"\n",
    "    sampleX=[]\n",
    "    sample=[]\n",
    "    for n in range(size):\n",
    "        X=np.random.uniform(size=beta.size)\n",
    "        sampleX.append(X)\n",
    "        sample.append(DX(X, beta))\n",
    "\n",
    "    return (sampleX, sample)"
   ]
  },
  {
   "cell_type": "code",
   "execution_count": 7,
   "metadata": {},
   "outputs": [
    {
     "data": {
      "text/plain": [
       "([array([0.32023914, 0.20923495]),\n",
       "  array([0.59273498, 0.91800076]),\n",
       "  array([0.42063656, 0.66853464])],\n",
       " [array([[ 1.        , -0.86081821],\n",
       "         [-0.86081821,  1.        ]]),\n",
       "  array([[ 1.        , -0.57810013],\n",
       "         [-0.57810013,  1.        ]]),\n",
       "  array([[1.        , 0.97622032],\n",
       "         [0.97622032, 1.        ]])])"
      ]
     },
     "execution_count": 7,
     "metadata": {},
     "output_type": "execute_result"
    }
   ],
   "source": [
    "sim_DX(beta2, size=3)"
   ]
  },
  {
   "cell_type": "markdown",
   "metadata": {},
   "source": [
    "#### $p=2$"
   ]
  },
  {
   "cell_type": "code",
   "execution_count": 8,
   "metadata": {},
   "outputs": [
    {
     "data": {
      "text/plain": [
       "[array([[ 0.21748109, -0.74109491],\n",
       "        [-0.74109491,  1.15325134]]),\n",
       " array([[0.21748109, 0.65872727],\n",
       "        [0.65872727, 1.15325134]]),\n",
       " array([[0.21748109, 0.52939598],\n",
       "        [0.52939598, 1.15325134]]),\n",
       " array([[ 0.21748109, -0.24414167],\n",
       "        [-0.24414167,  1.15325134]]),\n",
       " array([[0.21748109, 0.49321896],\n",
       "        [0.49321896, 1.15325134]]),\n",
       " array([[0.21748109, 0.91151499],\n",
       "        [0.91151499, 1.15325134]]),\n",
       " array([[0.21748109, 1.22830721],\n",
       "        [1.22830721, 1.15325134]]),\n",
       " array([[ 0.21748109, -0.70601296],\n",
       "        [-0.70601296,  1.15325134]]),\n",
       " array([[0.21748109, 1.14717868],\n",
       "        [1.14717868, 1.15325134]]),\n",
       " array([[0.21748109, 1.07347492],\n",
       "        [1.07347492, 1.15325134]]),\n",
       " array([[0.21748109, 1.02000371],\n",
       "        [1.02000371, 1.15325134]]),\n",
       " array([[ 0.21748109, -0.4253272 ],\n",
       "        [-0.4253272 ,  1.15325134]]),\n",
       " array([[0.21748109, 0.52315058],\n",
       "        [0.52315058, 1.15325134]]),\n",
       " array([[ 0.21748109, -0.40925363],\n",
       "        [-0.40925363,  1.15325134]]),\n",
       " array([[ 0.21748109, -0.35553719],\n",
       "        [-0.35553719,  1.15325134]]),\n",
       " array([[0.21748109, 0.57958525],\n",
       "        [0.57958525, 1.15325134]]),\n",
       " array([[0.21748109, 0.22922777],\n",
       "        [0.22922777, 1.15325134]]),\n",
       " array([[ 0.21748109, -0.36023479],\n",
       "        [-0.36023479,  1.15325134]]),\n",
       " array([[ 0.21748109, -0.04350655],\n",
       "        [-0.04350655,  1.15325134]]),\n",
       " array([[0.21748109, 0.58757242],\n",
       "        [0.58757242, 1.15325134]]),\n",
       " array([[ 0.21748109, -0.7311008 ],\n",
       "        [-0.7311008 ,  1.15325134]]),\n",
       " array([[ 0.21748109, -0.26036128],\n",
       "        [-0.26036128,  1.15325134]]),\n",
       " array([[0.21748109, 1.20093722],\n",
       "        [1.20093722, 1.15325134]]),\n",
       " array([[ 0.21748109, -0.72818948],\n",
       "        [-0.72818948,  1.15325134]]),\n",
       " array([[ 0.21748109, -0.20693029],\n",
       "        [-0.20693029,  1.15325134]]),\n",
       " array([[0.21748109, 1.1580581 ],\n",
       "        [1.1580581 , 1.15325134]]),\n",
       " array([[ 0.21748109, -0.73974908],\n",
       "        [-0.73974908,  1.15325134]]),\n",
       " array([[0.21748109, 1.23214945],\n",
       "        [1.23214945, 1.15325134]]),\n",
       " array([[0.21748109, 1.22365847],\n",
       "        [1.22365847, 1.15325134]]),\n",
       " array([[ 0.21748109, -0.40132505],\n",
       "        [-0.40132505,  1.15325134]]),\n",
       " array([[ 0.21748109, -0.70935779],\n",
       "        [-0.70935779,  1.15325134]]),\n",
       " array([[ 0.21748109, -0.73393358],\n",
       "        [-0.73393358,  1.15325134]]),\n",
       " array([[ 0.21748109, -0.25741802],\n",
       "        [-0.25741802,  1.15325134]]),\n",
       " array([[0.21748109, 0.80116205],\n",
       "        [0.80116205, 1.15325134]]),\n",
       " array([[0.21748109, 0.98176247],\n",
       "        [0.98176247, 1.15325134]]),\n",
       " array([[ 0.21748109, -0.54639542],\n",
       "        [-0.54639542,  1.15325134]]),\n",
       " array([[0.21748109, 0.96206181],\n",
       "        [0.96206181, 1.15325134]]),\n",
       " array([[ 0.21748109, -0.17268523],\n",
       "        [-0.17268523,  1.15325134]]),\n",
       " array([[0.21748109, 0.24564562],\n",
       "        [0.24564562, 1.15325134]]),\n",
       " array([[0.21748109, 0.93199544],\n",
       "        [0.93199544, 1.15325134]]),\n",
       " array([[0.21748109, 1.10773566],\n",
       "        [1.10773566, 1.15325134]]),\n",
       " array([[ 0.21748109, -0.43199029],\n",
       "        [-0.43199029,  1.15325134]]),\n",
       " array([[0.21748109, 0.25569807],\n",
       "        [0.25569807, 1.15325134]]),\n",
       " array([[0.21748109, 0.23363984],\n",
       "        [0.23363984, 1.15325134]]),\n",
       " array([[ 0.21748109, -0.01884573],\n",
       "        [-0.01884573,  1.15325134]]),\n",
       " array([[0.21748109, 1.05798936],\n",
       "        [1.05798936, 1.15325134]]),\n",
       " array([[ 0.21748109, -0.42366568],\n",
       "        [-0.42366568,  1.15325134]]),\n",
       " array([[0.21748109, 0.65969178],\n",
       "        [0.65969178, 1.15325134]]),\n",
       " array([[0.21748109, 1.25276568],\n",
       "        [1.25276568, 1.15325134]]),\n",
       " array([[0.21748109, 0.65147799],\n",
       "        [0.65147799, 1.15325134]]),\n",
       " array([[ 0.21748109, -0.7333344 ],\n",
       "        [-0.7333344 ,  1.15325134]]),\n",
       " array([[0.21748109, 0.97560228],\n",
       "        [0.97560228, 1.15325134]]),\n",
       " array([[ 0.21748109, -0.6162428 ],\n",
       "        [-0.6162428 ,  1.15325134]]),\n",
       " array([[0.21748109, 0.04151856],\n",
       "        [0.04151856, 1.15325134]]),\n",
       " array([[0.21748109, 1.21990779],\n",
       "        [1.21990779, 1.15325134]]),\n",
       " array([[ 0.21748109, -0.53378221],\n",
       "        [-0.53378221,  1.15325134]]),\n",
       " array([[ 0.21748109, -0.68496177],\n",
       "        [-0.68496177,  1.15325134]]),\n",
       " array([[0.21748109, 0.50885583],\n",
       "        [0.50885583, 1.15325134]]),\n",
       " array([[0.21748109, 0.70826426],\n",
       "        [0.70826426, 1.15325134]]),\n",
       " array([[0.21748109, 1.25513532],\n",
       "        [1.25513532, 1.15325134]]),\n",
       " array([[0.21748109, 1.25759842],\n",
       "        [1.25759842, 1.15325134]]),\n",
       " array([[0.21748109, 0.29800786],\n",
       "        [0.29800786, 1.15325134]]),\n",
       " array([[ 0.21748109, -0.26990824],\n",
       "        [-0.26990824,  1.15325134]]),\n",
       " array([[ 0.21748109, -0.51474637],\n",
       "        [-0.51474637,  1.15325134]]),\n",
       " array([[ 0.21748109, -0.4333914 ],\n",
       "        [-0.4333914 ,  1.15325134]]),\n",
       " array([[0.21748109, 0.61008171],\n",
       "        [0.61008171, 1.15325134]]),\n",
       " array([[ 0.21748109, -0.54534326],\n",
       "        [-0.54534326,  1.15325134]]),\n",
       " array([[ 0.21748109, -0.49931773],\n",
       "        [-0.49931773,  1.15325134]]),\n",
       " array([[0.21748109, 0.64964096],\n",
       "        [0.64964096, 1.15325134]]),\n",
       " array([[ 0.21748109, -0.69834162],\n",
       "        [-0.69834162,  1.15325134]]),\n",
       " array([[0.21748109, 0.52030666],\n",
       "        [0.52030666, 1.15325134]]),\n",
       " array([[ 0.21748109, -0.1676945 ],\n",
       "        [-0.1676945 ,  1.15325134]]),\n",
       " array([[0.21748109, 0.07738197],\n",
       "        [0.07738197, 1.15325134]]),\n",
       " array([[0.21748109, 0.98951241],\n",
       "        [0.98951241, 1.15325134]]),\n",
       " array([[ 0.21748109, -0.27997638],\n",
       "        [-0.27997638,  1.15325134]]),\n",
       " array([[0.21748109, 1.22327629],\n",
       "        [1.22327629, 1.15325134]]),\n",
       " array([[0.21748109, 0.52776602],\n",
       "        [0.52776602, 1.15325134]]),\n",
       " array([[0.21748109, 0.05376892],\n",
       "        [0.05376892, 1.15325134]]),\n",
       " array([[0.21748109, 1.14820602],\n",
       "        [1.14820602, 1.15325134]]),\n",
       " array([[ 0.21748109, -0.70160268],\n",
       "        [-0.70160268,  1.15325134]]),\n",
       " array([[0.21748109, 0.85039526],\n",
       "        [0.85039526, 1.15325134]]),\n",
       " array([[ 0.21748109, -0.39858414],\n",
       "        [-0.39858414,  1.15325134]]),\n",
       " array([[ 0.21748109, -0.64337993],\n",
       "        [-0.64337993,  1.15325134]]),\n",
       " array([[0.21748109, 1.21901892],\n",
       "        [1.21901892, 1.15325134]]),\n",
       " array([[ 0.21748109, -0.55889388],\n",
       "        [-0.55889388,  1.15325134]]),\n",
       " array([[0.21748109, 0.38283774],\n",
       "        [0.38283774, 1.15325134]]),\n",
       " array([[ 0.21748109, -0.07278208],\n",
       "        [-0.07278208,  1.15325134]]),\n",
       " array([[ 0.21748109, -0.64244851],\n",
       "        [-0.64244851,  1.15325134]]),\n",
       " array([[0.21748109, 0.96218147],\n",
       "        [0.96218147, 1.15325134]]),\n",
       " array([[0.21748109, 0.75917218],\n",
       "        [0.75917218, 1.15325134]]),\n",
       " array([[ 0.21748109, -0.45096156],\n",
       "        [-0.45096156,  1.15325134]]),\n",
       " array([[ 0.21748109, -0.54083909],\n",
       "        [-0.54083909,  1.15325134]]),\n",
       " array([[0.21748109, 0.20889916],\n",
       "        [0.20889916, 1.15325134]]),\n",
       " array([[ 0.21748109, -0.5034353 ],\n",
       "        [-0.5034353 ,  1.15325134]]),\n",
       " array([[0.21748109, 1.25604094],\n",
       "        [1.25604094, 1.15325134]]),\n",
       " array([[ 0.21748109, -0.39375363],\n",
       "        [-0.39375363,  1.15325134]]),\n",
       " array([[ 0.21748109, -0.28880017],\n",
       "        [-0.28880017,  1.15325134]]),\n",
       " array([[0.21748109, 0.44917795],\n",
       "        [0.44917795, 1.15325134]]),\n",
       " array([[ 0.21748109, -0.63435151],\n",
       "        [-0.63435151,  1.15325134]]),\n",
       " array([[ 0.21748109, -0.00637759],\n",
       "        [-0.00637759,  1.15325134]])]"
      ]
     },
     "execution_count": 8,
     "metadata": {},
     "output_type": "execute_result"
    }
   ],
   "source": [
    "sample_DX=sim_DX(beta2, size=100)\n",
    "sample_logY=[]\n",
    "for k in range(len(sample_DX[1])):\n",
    "    sample_logY.append(sim_matrix_normal_one(M=sample_DX[1][k], var=0.2, random_state=100))\n",
    "\n",
    "sample_logY"
   ]
  },
  {
   "cell_type": "code",
   "execution_count": 9,
   "metadata": {},
   "outputs": [
    {
     "data": {
      "text/plain": [
       "[array([[ 1.74469924, -1.66635047],\n",
       "        [-1.66635047,  3.84877681]]),\n",
       " array([[1.63539826, 1.4541953 ],\n",
       "        [1.4541953 , 3.70118901]]),\n",
       " array([[1.49303833, 1.14019774],\n",
       "        [1.14019774, 3.50847321]]),\n",
       " array([[ 1.29511204, -0.50730462],\n",
       "        [-0.50730462,  3.23955917]]),\n",
       " array([[1.45932263, 1.0559505 ],\n",
       "        [1.0559505 , 3.46274736]]),\n",
       " array([[2.02079454, 2.1424236 ],\n",
       "        [2.1424236 , 4.22022765]]),\n",
       " array([[2.74028249, 3.20264012],\n",
       "        [3.20264012, 5.18017317]]),\n",
       " array([[ 1.69630927, -1.57470967],\n",
       "        [-1.57470967,  3.78347556]]),\n",
       " array([[2.52763248, 2.90533946],\n",
       "        [2.90533946, 4.89755992]]),\n",
       " array([[2.35214308, 2.65167131],\n",
       "        [2.65167131, 4.66365968]]),\n",
       " array([[2.23477885, 2.47661655],\n",
       "        [2.47661655, 4.50687262]]),\n",
       " array([[ 1.40297545, -0.90144172],\n",
       "        [-0.90144172,  3.38625405]]),\n",
       " array([[1.48703173, 1.12555173],\n",
       "        [1.12555173, 3.50032935]]),\n",
       " array([[ 1.39093404, -0.86548705],\n",
       "        [-0.86548705,  3.36989519]]),\n",
       " array([[ 1.35423225, -0.74687781],\n",
       "        [-0.74687781,  3.32000701]]),\n",
       " array([[1.54417038, 1.25953662],\n",
       "        [1.25953662, 3.57775715]]),\n",
       " array([[1.28890434, 0.47576475],\n",
       "        [0.47576475, 3.23110574]]),\n",
       " array([[ 1.35722631, -0.75716077],\n",
       "        [-0.75716077,  3.32407831]]),\n",
       " array([[ 1.24459025, -0.08955134],\n",
       "        [-0.08955134,  3.17072511]]),\n",
       " array([[1.55278243, 1.27880919],\n",
       "        [1.27880919, 3.58941919]]),\n",
       " array([[ 1.73063207, -1.64004274],\n",
       "        [-1.64004274,  3.82979978]]),\n",
       " array([[ 1.30231687, -0.5417323 ],\n",
       "        [-0.5417323 ,  3.24936894]]),\n",
       " array([[2.66617624, 3.10011241],\n",
       "        [3.10011241, 5.08178374]]),\n",
       " array([[ 1.72657668, -1.63240971],\n",
       "        [-1.63240971,  3.824328  ]]),\n",
       " array([[ 1.28036548, -0.42880255],\n",
       "        [-0.42880255,  3.21947585]]),\n",
       " array([[2.55493536, 2.94406992],\n",
       "        [2.94406992, 4.93389461]]),\n",
       " array([[ 1.74279174, -1.6627983 ],\n",
       "        [-1.6627983 ,  3.84620384]]),\n",
       " array([[2.75088316, 3.21722096],\n",
       "        [3.21722096, 5.19423908]]),\n",
       " array([[2.72752211, 3.18506105],\n",
       "        [3.18506105, 5.1632388 ]]),\n",
       " array([[ 1.38517517, -0.84783354],\n",
       "        [-0.84783354,  3.36206994]]),\n",
       " array([[ 1.70080414, -1.58336283],\n",
       "        [-1.58336283,  3.78954389]]),\n",
       " array([[ 1.73459639, -1.64748302],\n",
       "        [-1.64748302,  3.8351483 ]]),\n",
       " array([[ 1.30097427, -0.53547478],\n",
       "        [-0.53547478,  3.24754104]]),\n",
       " array([[1.83407818, 1.82801758],\n",
       "        [1.82801758, 3.96923231]]),\n",
       " array([[2.15574974, 2.35573726],\n",
       "        [2.35573726, 4.40112874]]),\n",
       " array([[ 1.50978474, -1.18028671],\n",
       "        [-1.18028671,  3.53117281]]),\n",
       " array([[2.11658694, 2.29480201],\n",
       "        [2.29480201, 4.34867578]]),\n",
       " array([[ 1.26897411, -0.35707806],\n",
       "        [-0.35707806,  3.20395729]]),\n",
       " array([[1.29576019, 0.51049123],\n",
       "        [0.51049123, 3.24044173]]),\n",
       " array([[2.05880461, 2.20349155],\n",
       "        [2.20349155, 4.27122082]]),\n",
       " array([[2.43169273, 2.76773714],\n",
       "        [2.76773714, 4.76976503]]),\n",
       " array([[ 1.40811157, -0.91641305],\n",
       "        [-0.91641305,  3.39323041]]),\n",
       " array([[1.30019693, 0.53182019],\n",
       "        [0.53182019, 3.24648269]]),\n",
       " array([[1.29069927, 0.48508421],\n",
       "        [0.48508421, 3.23355014]]),\n",
       " array([[ 1.24325117, -0.03878114],\n",
       "        [-0.03878114,  3.16889956]]),\n",
       " array([[2.31731385, 2.60022676],\n",
       "        [2.60022676, 4.61716195]]),\n",
       " array([[ 1.40170791, -0.89771461],\n",
       "        [-0.89771461,  3.38453225]]),\n",
       " array([[1.63659207, 1.45662057],\n",
       "        [1.45662057, 3.70280272]]),\n",
       " array([[2.80860627, 3.29626353],\n",
       "        [3.29626353, 5.27079482]]),\n",
       " array([[1.6264897 , 1.43600956],\n",
       "        [1.43600956, 3.68914576]]),\n",
       " array([[ 1.73375635, -1.64590817],\n",
       "        [-1.64590817,  3.83401498]]),\n",
       " array([[2.14339196, 2.33658758],\n",
       "        [2.33658758, 4.384581  ]]),\n",
       " array([[ 1.58478698, -1.34866049],\n",
       "        [-1.34866049,  3.6327401 ]]),\n",
       " array([[1.24444303, 0.08545701],\n",
       "        [0.08545701, 3.17052441]]),\n",
       " array([[2.71727891, 3.17092757],\n",
       "        [3.17092757, 5.14964279]]),\n",
       " array([[ 1.4973036 , -1.15051003],\n",
       "        [-1.15051003,  3.5142555 ]]),\n",
       " array([[ 1.66858797, -1.52064474],\n",
       "        [-1.52064474,  3.74603835]]),\n",
       " array([[1.47357662, 1.09219131],\n",
       "        [1.09219131, 3.4820829 ]]),\n",
       " array([[1.69933189, 1.58053191],\n",
       "        [1.58053191, 3.78755633]]),\n",
       " array([[2.81533276, 3.3054367 ],\n",
       "        [3.3054367 , 5.27971191]]),\n",
       " array([[2.82234479, 3.31499115],\n",
       "        [3.31499115, 5.28900667]]),\n",
       " array([[1.32087258, 0.62219751],\n",
       "        [0.62219751, 3.27462611]]),\n",
       " array([[ 1.30677945, -0.56206176],\n",
       "        [-0.56206176,  3.25544417]]),\n",
       " array([[ 1.47907187, -1.10591133],\n",
       "        [-1.10591133,  3.48953563]]),\n",
       " array([[ 1.4092024 , -0.91956629],\n",
       "        [-0.91956629,  3.39471198]]),\n",
       " array([[1.5777646 , 1.33355961],\n",
       "        [1.33355961, 3.62323715]]),\n",
       " array([[ 1.50873133, -1.17779581],\n",
       "        [-1.17779581,  3.52974515]]),\n",
       " array([[ 1.46482455, -1.07005457],\n",
       "        [-1.07005457,  3.47021142]]),\n",
       " array([[1.62425012, 1.431413  ],\n",
       "        [1.431413  , 3.6861178 ]]),\n",
       " array([[ 1.68609402, -1.55492921],\n",
       "        [-1.55492921,  3.7696824 ]]),\n",
       " array([[1.4843224 , 1.11889687],\n",
       "        [1.11889687, 3.49665566]]),\n",
       " array([[ 1.26748748, -0.34666165],\n",
       "        [-0.34666165,  3.20193174]]),\n",
       " array([[1.2481583 , 0.15938569],\n",
       "        [0.15938569, 3.1755891 ]]),\n",
       " array([[2.17144245, 2.37995426],\n",
       "        [2.37995426, 4.42213719]]),\n",
       " array([[ 1.31166425, -0.58355576],\n",
       "        [-0.58355576,  3.2620935 ]]),\n",
       " array([[2.72647624, 3.18361888],\n",
       "        [3.18361888, 5.16185069]]),\n",
       " array([[1.49146317, 1.13637115],\n",
       "        [1.13637115, 3.50633767]]),\n",
       " array([[1.2454598 , 0.11069295],\n",
       "        [0.11069295, 3.17191052]]),\n",
       " array([[2.53019498, 2.90898219],\n",
       "        [2.90898219, 4.90097072]]),\n",
       " array([[ 1.69042056, -1.56332671],\n",
       "        [-1.56332671,  3.77552466]]),\n",
       " array([[1.91368484, 1.96535282],\n",
       "        [1.96535282, 4.07634823]]),\n",
       " array([[ 1.38321201, -0.84174299],\n",
       "        [-0.84174299,  3.35940213]]),\n",
       " array([[ 1.61667142, -1.41578253],\n",
       "        [-1.41578253,  3.67587019]]),\n",
       " array([[2.71485817, 3.16758455],\n",
       "        [3.16758455, 5.14642942]]),\n",
       " array([[ 1.5224698 , -1.20997513],\n",
       "        [-1.20997513,  3.54836195]]),\n",
       " array([[1.37220828, 0.80687251],\n",
       "        [0.80687251, 3.34444664]]),\n",
       " array([[ 1.24755629, -0.14989418],\n",
       "        [-0.14989418,  3.17476847]]),\n",
       " array([[ 1.61555114, -1.41346196],\n",
       "        [-1.41346196,  3.67435526]]),\n",
       " array([[2.11682168, 2.29516945],\n",
       "        [2.29516945, 4.34899028]]),\n",
       " array([[1.77072099, 1.71435449],\n",
       "        [1.71435449, 3.88386733]]),\n",
       " array([[ 1.42320189, -0.95926162],\n",
       "        [-0.95926162,  3.41372296]]),\n",
       " array([[ 1.50424705, -1.16714704],\n",
       "        [-1.16714704,  3.52366741]]),\n",
       " array([[1.28108375, 0.43294052],\n",
       "        [0.43294052, 3.22045424]]),\n",
       " array([[ 1.46858069, -1.07959903],\n",
       "        [-1.07959903,  3.4753066 ]]),\n",
       " array([[2.81790851, 3.30894732],\n",
       "        [3.30894732, 5.28312628]]),\n",
       " array([[ 1.37978672, -0.83102431],\n",
       "        [-0.83102431,  3.35474711]]),\n",
       " array([[ 1.31609651, -0.60244114],\n",
       "        [-0.60244114,  3.26812616]]),\n",
       " array([[1.42175364, 0.9552189 ],\n",
       "        [0.9552189 , 3.41175654]]),\n",
       " array([[ 1.60589023, -1.39333955],\n",
       "        [-1.39333955,  3.6612896 ]]),\n",
       " array([[ 1.24297734, -0.01312326],\n",
       "        [-0.01312326,  3.16852625]])]"
      ]
     },
     "execution_count": 9,
     "metadata": {},
     "output_type": "execute_result"
    }
   ],
   "source": [
    "sampleY=[expm(A) for A in sample_logY]\n",
    "sampleY"
   ]
  },
  {
   "cell_type": "code",
   "execution_count": 14,
   "metadata": {},
   "outputs": [],
   "source": [
    "X=np.c_[sample_DX[0]]\n",
    "sampleY_LogChol=np.c_[[spd_to_log_chol(A) for A in sampleY]]\n",
    "M=LogCholesky(dim=2)\n",
    "y=MetricData(M, sampleY_LogChol)"
   ]
  },
  {
   "cell_type": "code",
   "execution_count": 34,
   "metadata": {},
   "outputs": [],
   "source": [
    "X_train, X_test, y_train, y_test = train_test_split(X, y, test_size=0.25, random_state=100)\n",
    "\n",
    "scaler=MinMaxScaler(feature_range=(0,1))\n",
    "X_train=scaler.fit_transform(X_train)\n",
    "X_test=scaler.transform(X_test)"
   ]
  },
  {
   "cell_type": "code",
   "execution_count": 35,
   "metadata": {},
   "outputs": [
    {
     "data": {
      "text/html": [
       "<style>#sk-container-id-2 {color: black;}#sk-container-id-2 pre{padding: 0;}#sk-container-id-2 div.sk-toggleable {background-color: white;}#sk-container-id-2 label.sk-toggleable__label {cursor: pointer;display: block;width: 100%;margin-bottom: 0;padding: 0.3em;box-sizing: border-box;text-align: center;}#sk-container-id-2 label.sk-toggleable__label-arrow:before {content: \"▸\";float: left;margin-right: 0.25em;color: #696969;}#sk-container-id-2 label.sk-toggleable__label-arrow:hover:before {color: black;}#sk-container-id-2 div.sk-estimator:hover label.sk-toggleable__label-arrow:before {color: black;}#sk-container-id-2 div.sk-toggleable__content {max-height: 0;max-width: 0;overflow: hidden;text-align: left;background-color: #f0f8ff;}#sk-container-id-2 div.sk-toggleable__content pre {margin: 0.2em;color: black;border-radius: 0.25em;background-color: #f0f8ff;}#sk-container-id-2 input.sk-toggleable__control:checked~div.sk-toggleable__content {max-height: 200px;max-width: 100%;overflow: auto;}#sk-container-id-2 input.sk-toggleable__control:checked~label.sk-toggleable__label-arrow:before {content: \"▾\";}#sk-container-id-2 div.sk-estimator input.sk-toggleable__control:checked~label.sk-toggleable__label {background-color: #d4ebff;}#sk-container-id-2 div.sk-label input.sk-toggleable__control:checked~label.sk-toggleable__label {background-color: #d4ebff;}#sk-container-id-2 input.sk-hidden--visually {border: 0;clip: rect(1px 1px 1px 1px);clip: rect(1px, 1px, 1px, 1px);height: 1px;margin: -1px;overflow: hidden;padding: 0;position: absolute;width: 1px;}#sk-container-id-2 div.sk-estimator {font-family: monospace;background-color: #f0f8ff;border: 1px dotted black;border-radius: 0.25em;box-sizing: border-box;margin-bottom: 0.5em;}#sk-container-id-2 div.sk-estimator:hover {background-color: #d4ebff;}#sk-container-id-2 div.sk-parallel-item::after {content: \"\";width: 100%;border-bottom: 1px solid gray;flex-grow: 1;}#sk-container-id-2 div.sk-label:hover label.sk-toggleable__label {background-color: #d4ebff;}#sk-container-id-2 div.sk-serial::before {content: \"\";position: absolute;border-left: 1px solid gray;box-sizing: border-box;top: 0;bottom: 0;left: 50%;z-index: 0;}#sk-container-id-2 div.sk-serial {display: flex;flex-direction: column;align-items: center;background-color: white;padding-right: 0.2em;padding-left: 0.2em;position: relative;}#sk-container-id-2 div.sk-item {position: relative;z-index: 1;}#sk-container-id-2 div.sk-parallel {display: flex;align-items: stretch;justify-content: center;background-color: white;position: relative;}#sk-container-id-2 div.sk-item::before, #sk-container-id-2 div.sk-parallel-item::before {content: \"\";position: absolute;border-left: 1px solid gray;box-sizing: border-box;top: 0;bottom: 0;left: 50%;z-index: -1;}#sk-container-id-2 div.sk-parallel-item {display: flex;flex-direction: column;z-index: 1;position: relative;background-color: white;}#sk-container-id-2 div.sk-parallel-item:first-child::after {align-self: flex-end;width: 50%;}#sk-container-id-2 div.sk-parallel-item:last-child::after {align-self: flex-start;width: 50%;}#sk-container-id-2 div.sk-parallel-item:only-child::after {width: 0;}#sk-container-id-2 div.sk-dashed-wrapped {border: 1px dashed gray;margin: 0 0.4em 0.5em 0.4em;box-sizing: border-box;padding-bottom: 0.4em;background-color: white;}#sk-container-id-2 div.sk-label label {font-family: monospace;font-weight: bold;display: inline-block;line-height: 1.2em;}#sk-container-id-2 div.sk-label-container {text-align: center;}#sk-container-id-2 div.sk-container {/* jupyter's `normalize.less` sets `[hidden] { display: none; }` but bootstrap.min.css set `[hidden] { display: none !important; }` so we also need the `!important` here to be able to override the default hidden behavior on the sphinx rendered scikit-learn.org. See: https://github.com/scikit-learn/scikit-learn/issues/21755 */display: inline-block !important;position: relative;}#sk-container-id-2 div.sk-text-repr-fallback {display: none;}</style><div id=\"sk-container-id-2\" class=\"sk-top-container\"><div class=\"sk-text-repr-fallback\"><pre>BaggedRegressor(bootstrap_fraction=1, bootstrap_replace=True,\n",
       "                estimator=Tree(min_split_size=1, mtry=2, split_type=&#x27;2means&#x27;),\n",
       "                n_jobs=4)</pre><b>In a Jupyter environment, please rerun this cell to show the HTML representation or trust the notebook. <br />On GitHub, the HTML representation is unable to render, please try loading this page with nbviewer.org.</b></div><div class=\"sk-container\" hidden><div class=\"sk-item sk-dashed-wrapped\"><div class=\"sk-label-container\"><div class=\"sk-label sk-toggleable\"><input class=\"sk-toggleable__control sk-hidden--visually\" id=\"sk-estimator-id-4\" type=\"checkbox\" ><label for=\"sk-estimator-id-4\" class=\"sk-toggleable__label sk-toggleable__label-arrow\">BaggedRegressor</label><div class=\"sk-toggleable__content\"><pre>BaggedRegressor(bootstrap_fraction=1, bootstrap_replace=True,\n",
       "                estimator=Tree(min_split_size=1, mtry=2, split_type=&#x27;2means&#x27;),\n",
       "                n_jobs=4)</pre></div></div></div><div class=\"sk-parallel\"><div class=\"sk-parallel-item\"><div class=\"sk-item\"><div class=\"sk-label-container\"><div class=\"sk-label sk-toggleable\"><input class=\"sk-toggleable__control sk-hidden--visually\" id=\"sk-estimator-id-5\" type=\"checkbox\" ><label for=\"sk-estimator-id-5\" class=\"sk-toggleable__label sk-toggleable__label-arrow\">estimator: Tree</label><div class=\"sk-toggleable__content\"><pre>Tree(min_split_size=1, mtry=2, split_type=&#x27;2means&#x27;)</pre></div></div></div><div class=\"sk-serial\"><div class=\"sk-item\"><div class=\"sk-estimator sk-toggleable\"><input class=\"sk-toggleable__control sk-hidden--visually\" id=\"sk-estimator-id-6\" type=\"checkbox\" ><label for=\"sk-estimator-id-6\" class=\"sk-toggleable__label sk-toggleable__label-arrow\">Tree</label><div class=\"sk-toggleable__content\"><pre>Tree(min_split_size=1, mtry=2, split_type=&#x27;2means&#x27;)</pre></div></div></div></div></div></div></div></div></div></div>"
      ],
      "text/plain": [
       "BaggedRegressor(bootstrap_fraction=1, bootstrap_replace=True,\n",
       "                estimator=Tree(min_split_size=1, mtry=2, split_type='2means'),\n",
       "                n_jobs=4)"
      ]
     },
     "execution_count": 35,
     "metadata": {},
     "output_type": "execute_result"
    }
   ],
   "source": [
    "base = Tree(split_type='2means',\n",
    "            impurity_method='cart',\n",
    "            mtry=2,\n",
    "            min_split_size=1)\n",
    "forest = BaggedRegressor(estimator=base,\n",
    "                         n_estimators=100,\n",
    "                         bootstrap_fraction=1,\n",
    "                         bootstrap_replace=True,\n",
    "                         n_jobs=4)\n",
    "forest.fit(X_train, y_train)"
   ]
  },
  {
   "cell_type": "code",
   "execution_count": 36,
   "metadata": {},
   "outputs": [
    {
     "name": "stdout",
     "output_type": "stream",
     "text": [
      "MSE: 0.5012228203660477\n",
      "MSE: 0.3811726952030371\n"
     ]
    }
   ],
   "source": [
    "forest_predictions = forest.predict(X_test)\n",
    "print(f'MSE: {mse(y_test, forest_predictions)}')\n",
    "\n",
    "forest_fitted = forest.predict(X_train)\n",
    "print(f'MSE: {mse(y_train, forest_fitted)}')"
   ]
  },
  {
   "cell_type": "code",
   "execution_count": 38,
   "metadata": {},
   "outputs": [],
   "source": [
    "oob_errors=forest.oob_errors()"
   ]
  },
  {
   "cell_type": "code",
   "execution_count": 39,
   "metadata": {},
   "outputs": [
    {
     "data": {
      "text/plain": [
       "array([0.97658441, 0.98253475, 0.35478908, 0.42465132, 1.45957036,\n",
       "       0.08072506, 0.47497636, 0.28151771, 0.76898019, 1.24909715,\n",
       "       0.25443525, 0.91420518, 0.65508139, 0.28543696, 0.15704558,\n",
       "       0.36566721, 0.31040367, 0.60475167, 0.29457168, 0.9925497 ,\n",
       "       0.19034523, 0.50480358, 0.26014582, 0.17175448, 0.70297711,\n",
       "       0.6798265 , 0.71310292, 0.40056673, 1.22513131, 0.34468514,\n",
       "       0.43703333, 0.79059136, 1.3491647 , 1.17271482, 0.09462101,\n",
       "       0.13856072, 0.11891418, 0.37516161, 0.56174851, 0.17899845,\n",
       "       0.90194243, 0.57002473, 0.43857891, 0.1558132 , 0.18355958,\n",
       "       0.45466577, 0.61140488, 0.87585081, 0.1463001 , 0.63578921,\n",
       "       0.15456385, 0.53990254, 0.49710963, 0.98615919, 0.21087513,\n",
       "       0.3452672 , 1.09690701, 0.37383664, 0.49210176, 0.37107439,\n",
       "       1.01240415, 0.09367142, 0.88716337, 1.10169801, 0.6338472 ,\n",
       "       0.58853856, 0.2627232 , 0.40262248, 0.62440952, 0.53869843,\n",
       "       0.75251176, 0.31879664, 1.32243982, 0.41792424, 0.52929978])"
      ]
     },
     "execution_count": 39,
     "metadata": {},
     "output_type": "execute_result"
    }
   ],
   "source": [
    "oob_errors"
   ]
  },
  {
   "cell_type": "code",
   "execution_count": 40,
   "metadata": {},
   "outputs": [
    {
     "data": {
      "text/plain": [
       "0.96"
      ]
     },
     "execution_count": 40,
     "metadata": {},
     "output_type": "execute_result"
    }
   ],
   "source": [
    "alpha=0.05\n",
    "Dalpha=np.percentile(oob_errors, (1-alpha)*100)\n",
    "np.mean(y_train.M.d(forest_predictions.data, y_test.data) <= Dalpha)"
   ]
  },
  {
   "cell_type": "code",
   "execution_count": 118,
   "metadata": {},
   "outputs": [
    {
     "data": {
      "image/png": "[encoded data removed]",
      "text/plain": [
       "<Figure size 640x480 with 2 Axes>"
      ]
     },
     "metadata": {},
     "output_type": "display_data"
    }
   ],
   "source": [
    "# IDEA FROM CHATGPT\n",
    "def visualize_positive_definite_matrix(matrix):\n",
    "    fig, ax = plt.subplots()\n",
    "    cax = ax.matshow(matrix, cmap='viridis')\n",
    "\n",
    "    # Add colorbar\n",
    "    fig.colorbar(cax)\n",
    "\n",
    "    plt.title('Positive Definite Matrix')\n",
    "    plt.show()\n",
    "\n",
    "# Example: visualize a 3x3 positive definite matrix\n",
    "matrix = np.array([[4, 1, 2],\n",
    "                   [1, 5, 3],\n",
    "                   [2, 3, 6]])\n",
    "\n",
    "visualize_positive_definite_matrix(matrix)"
   ]
  },
  {
   "cell_type": "code",
   "execution_count": 15,
   "metadata": {},
   "outputs": [
    {
     "data": {
      "image/png": "[encoded data removed]",
      "text/plain": [
       "<Figure size 640x480 with 13 Axes>"
      ]
     },
     "metadata": {},
     "output_type": "display_data"
    }
   ],
   "source": [
    "def visualize_positive_definite_matrices(matrices, layout: Union[tuple, None]=None):\n",
    "    \"\"\"\n",
    "    layout=(num_rows, num_cols)\n",
    "    \"\"\"\n",
    "    if not layout:\n",
    "        num_cols = int(np.ceil(np.sqrt(num_matrices)))\n",
    "        num_rows = int(np.ceil(num_matrices / num_cols))\n",
    "    else:\n",
    "        num_rows=layout[0]\n",
    "        num_cols=layout[1]\n",
    "\n",
    "    fig, axs = plt.subplots(num_rows, num_cols)\n",
    "\n",
    "    # Loop through the matrices and plot them\n",
    "    for i, matrix in enumerate(matrices):\n",
    "        row = i // num_cols\n",
    "        col = i % num_cols\n",
    "        ax = axs[row, col]\n",
    "        cax = ax.matshow(matrix, cmap='viridis')\n",
    "        # ax.set_title(f'Matrix {i+1}')\n",
    "\n",
    "        ax.set_xticks([])\n",
    "        ax.set_yticks([])\n",
    "\n",
    "    # Create a single colorbar for all matrices\n",
    "    fig.colorbar(cax, ax=axs.ravel().tolist(), location='bottom')\n",
    "    plt.show()\n",
    "\n",
    "# Example: visualize multiple 3x3 positive definite matrices\n",
    "matrix_size = 4\n",
    "num_matrices = 12\n",
    "matrices = [np.random.rand(matrix_size, matrix_size) for _ in range(num_matrices)]\n",
    "visualize_positive_definite_matrices(matrices)"
   ]
  },
  {
   "cell_type": "code",
   "execution_count": 50,
   "metadata": {},
   "outputs": [
    {
     "data": {
      "image/png": "[encoded data removed]",
      "text/plain": [
       "<Figure size 640x480 with 13 Axes>"
      ]
     },
     "metadata": {},
     "output_type": "display_data"
    }
   ],
   "source": [
    "# fig, ax = plt.subplots(1,2)\n",
    "# ax[0].matshow(log_chol_to_spd(y_test.data[15]), cmap='viridis')\n",
    "# ax[1].matshow(log_chol_to_spd(forest_predictions.data[15]), cmap='viridis')\n",
    "\n",
    "# # Add colorbar\n",
    "# # fig.colorbar(cax)\n",
    "# plt.show()\n",
    "\n",
    "matrices_to_plot=[]\n",
    "index_to_plot=range(12)\n",
    "for i in index_to_plot:\n",
    "    matrices_to_plot.append(log_chol_to_spd(y_test.data[i]))\n",
    "visualize_positive_definite_matrices(matrices=matrices_to_plot)"
   ]
  },
  {
   "cell_type": "code",
   "execution_count": 43,
   "metadata": {},
   "outputs": [
    {
     "data": {
      "image/png": "[encoded data removed]",
      "text/plain": [
       "<Figure size 640x480 with 5 Axes>"
      ]
     },
     "metadata": {},
     "output_type": "display_data"
    }
   ],
   "source": [
    "matrices_to_plot=[]\n",
    "index_to_plot=[0,5]\n",
    "for i in index_to_plot:\n",
    "    matrices_to_plot.append(log_chol_to_spd(y_test.data[i]))\n",
    "    matrices_to_plot.append(log_chol_to_spd(forest_predictions.data[i]))\n",
    "visualize_positive_definite_matrices(matrices=matrices_to_plot, layout=(len(index_to_plot),2))"
   ]
  },
  {
   "cell_type": "code",
   "execution_count": 32,
   "metadata": {},
   "outputs": [
    {
     "data": {
      "text/plain": [
       "7.529495971530416"
      ]
     },
     "execution_count": 32,
     "metadata": {},
     "output_type": "execute_result"
    }
   ],
   "source": [
    "Dalpha"
   ]
  },
  {
   "cell_type": "code",
   "execution_count": 15,
   "metadata": {},
   "outputs": [
    {
     "data": {
      "text/plain": [
       "4.521712579987448"
      ]
     },
     "execution_count": 15,
     "metadata": {},
     "output_type": "execute_result"
    }
   ],
   "source": [
    "M=LogCholesky(2)\n",
    "M.d(sampleY[0], sampleY[1])"
   ]
  },
  {
   "cell_type": "code",
   "execution_count": 20,
   "metadata": {},
   "outputs": [
    {
     "data": {
      "text/plain": [
       "2.4340564518486407"
      ]
     },
     "execution_count": 20,
     "metadata": {},
     "output_type": "execute_result"
    }
   ],
   "source": [
    "M=LogCholesky(4)\n",
    "A=spd_to_log_chol(sampleY[0])\n",
    "B=spd_to_log_chol(sampleY[1])\n",
    "M.d(A, B)"
   ]
  },
  {
   "cell_type": "code",
   "execution_count": 18,
   "metadata": {},
   "outputs": [
    {
     "data": {
      "text/plain": [
       "array([ 0.23825258,  0.44711363, -1.10543785])"
      ]
     },
     "execution_count": 18,
     "metadata": {},
     "output_type": "execute_result"
    }
   ],
   "source": []
  },
  {
   "cell_type": "code",
   "execution_count": null,
   "metadata": {},
   "outputs": [],
   "source": [
    "np.linalg.norm()"
   ]
  },
  {
   "cell_type": "markdown",
   "metadata": {},
   "source": [
    "#### $p=10$"
   ]
  },
  {
   "cell_type": "code",
   "execution_count": 11,
   "metadata": {},
   "outputs": [],
   "source": [
    "sample_DX=sim_DX(beta10, size=250)\n",
    "sample_logY=[]\n",
    "for k in range(len(sample_DX[1])):\n",
    "    sample_logY.append(sim_matrix_normal_one(M=sample_DX[1][k], var=0.2**2, random_state=100))\n",
    "\n",
    "sampleY=[expm(A) for A in sample_logY]\n",
    "\n",
    "X=np.c_[sample_DX[0]]\n",
    "sampleY_LogChol=np.c_[[spd_to_log_chol(A) for A in sampleY]]\n",
    "M=LogCholesky(dim=10)\n",
    "y=MetricData(M, sampleY_LogChol)\n",
    "\n",
    "X_train, X_test, y_train, y_test = train_test_split(X, y, test_size=0.25, random_state=100)\n",
    "\n",
    "scaler=MinMaxScaler(feature_range=(0,1))\n",
    "X_train=scaler.fit_transform(X_train)\n",
    "X_test=scaler.transform(X_test)"
   ]
  },
  {
   "cell_type": "code",
   "execution_count": 12,
   "metadata": {},
   "outputs": [
    {
     "data": {
      "text/html": [
       "<style>#sk-container-id-1 {color: black;}#sk-container-id-1 pre{padding: 0;}#sk-container-id-1 div.sk-toggleable {background-color: white;}#sk-container-id-1 label.sk-toggleable__label {cursor: pointer;display: block;width: 100%;margin-bottom: 0;padding: 0.3em;box-sizing: border-box;text-align: center;}#sk-container-id-1 label.sk-toggleable__label-arrow:before {content: \"▸\";float: left;margin-right: 0.25em;color: #696969;}#sk-container-id-1 label.sk-toggleable__label-arrow:hover:before {color: black;}#sk-container-id-1 div.sk-estimator:hover label.sk-toggleable__label-arrow:before {color: black;}#sk-container-id-1 div.sk-toggleable__content {max-height: 0;max-width: 0;overflow: hidden;text-align: left;background-color: #f0f8ff;}#sk-container-id-1 div.sk-toggleable__content pre {margin: 0.2em;color: black;border-radius: 0.25em;background-color: #f0f8ff;}#sk-container-id-1 input.sk-toggleable__control:checked~div.sk-toggleable__content {max-height: 200px;max-width: 100%;overflow: auto;}#sk-container-id-1 input.sk-toggleable__control:checked~label.sk-toggleable__label-arrow:before {content: \"▾\";}#sk-container-id-1 div.sk-estimator input.sk-toggleable__control:checked~label.sk-toggleable__label {background-color: #d4ebff;}#sk-container-id-1 div.sk-label input.sk-toggleable__control:checked~label.sk-toggleable__label {background-color: #d4ebff;}#sk-container-id-1 input.sk-hidden--visually {border: 0;clip: rect(1px 1px 1px 1px);clip: rect(1px, 1px, 1px, 1px);height: 1px;margin: -1px;overflow: hidden;padding: 0;position: absolute;width: 1px;}#sk-container-id-1 div.sk-estimator {font-family: monospace;background-color: #f0f8ff;border: 1px dotted black;border-radius: 0.25em;box-sizing: border-box;margin-bottom: 0.5em;}#sk-container-id-1 div.sk-estimator:hover {background-color: #d4ebff;}#sk-container-id-1 div.sk-parallel-item::after {content: \"\";width: 100%;border-bottom: 1px solid gray;flex-grow: 1;}#sk-container-id-1 div.sk-label:hover label.sk-toggleable__label {background-color: #d4ebff;}#sk-container-id-1 div.sk-serial::before {content: \"\";position: absolute;border-left: 1px solid gray;box-sizing: border-box;top: 0;bottom: 0;left: 50%;z-index: 0;}#sk-container-id-1 div.sk-serial {display: flex;flex-direction: column;align-items: center;background-color: white;padding-right: 0.2em;padding-left: 0.2em;position: relative;}#sk-container-id-1 div.sk-item {position: relative;z-index: 1;}#sk-container-id-1 div.sk-parallel {display: flex;align-items: stretch;justify-content: center;background-color: white;position: relative;}#sk-container-id-1 div.sk-item::before, #sk-container-id-1 div.sk-parallel-item::before {content: \"\";position: absolute;border-left: 1px solid gray;box-sizing: border-box;top: 0;bottom: 0;left: 50%;z-index: -1;}#sk-container-id-1 div.sk-parallel-item {display: flex;flex-direction: column;z-index: 1;position: relative;background-color: white;}#sk-container-id-1 div.sk-parallel-item:first-child::after {align-self: flex-end;width: 50%;}#sk-container-id-1 div.sk-parallel-item:last-child::after {align-self: flex-start;width: 50%;}#sk-container-id-1 div.sk-parallel-item:only-child::after {width: 0;}#sk-container-id-1 div.sk-dashed-wrapped {border: 1px dashed gray;margin: 0 0.4em 0.5em 0.4em;box-sizing: border-box;padding-bottom: 0.4em;background-color: white;}#sk-container-id-1 div.sk-label label {font-family: monospace;font-weight: bold;display: inline-block;line-height: 1.2em;}#sk-container-id-1 div.sk-label-container {text-align: center;}#sk-container-id-1 div.sk-container {/* jupyter's `normalize.less` sets `[hidden] { display: none; }` but bootstrap.min.css set `[hidden] { display: none !important; }` so we also need the `!important` here to be able to override the default hidden behavior on the sphinx rendered scikit-learn.org. See: https://github.com/scikit-learn/scikit-learn/issues/21755 */display: inline-block !important;position: relative;}#sk-container-id-1 div.sk-text-repr-fallback {display: none;}</style><div id=\"sk-container-id-1\" class=\"sk-top-container\"><div class=\"sk-text-repr-fallback\"><pre>BaggedRegressor(bootstrap_fraction=1, bootstrap_replace=True,\n",
       "                estimator=Tree(min_split_size=1, mtry=3, split_type=&#x27;2means&#x27;),\n",
       "                n_jobs=4)</pre><b>In a Jupyter environment, please rerun this cell to show the HTML representation or trust the notebook. <br />On GitHub, the HTML representation is unable to render, please try loading this page with nbviewer.org.</b></div><div class=\"sk-container\" hidden><div class=\"sk-item sk-dashed-wrapped\"><div class=\"sk-label-container\"><div class=\"sk-label sk-toggleable\"><input class=\"sk-toggleable__control sk-hidden--visually\" id=\"sk-estimator-id-1\" type=\"checkbox\" ><label for=\"sk-estimator-id-1\" class=\"sk-toggleable__label sk-toggleable__label-arrow\">BaggedRegressor</label><div class=\"sk-toggleable__content\"><pre>BaggedRegressor(bootstrap_fraction=1, bootstrap_replace=True,\n",
       "                estimator=Tree(min_split_size=1, mtry=3, split_type=&#x27;2means&#x27;),\n",
       "                n_jobs=4)</pre></div></div></div><div class=\"sk-parallel\"><div class=\"sk-parallel-item\"><div class=\"sk-item\"><div class=\"sk-label-container\"><div class=\"sk-label sk-toggleable\"><input class=\"sk-toggleable__control sk-hidden--visually\" id=\"sk-estimator-id-2\" type=\"checkbox\" ><label for=\"sk-estimator-id-2\" class=\"sk-toggleable__label sk-toggleable__label-arrow\">estimator: Tree</label><div class=\"sk-toggleable__content\"><pre>Tree(min_split_size=1, mtry=3, split_type=&#x27;2means&#x27;)</pre></div></div></div><div class=\"sk-serial\"><div class=\"sk-item\"><div class=\"sk-estimator sk-toggleable\"><input class=\"sk-toggleable__control sk-hidden--visually\" id=\"sk-estimator-id-3\" type=\"checkbox\" ><label for=\"sk-estimator-id-3\" class=\"sk-toggleable__label sk-toggleable__label-arrow\">Tree</label><div class=\"sk-toggleable__content\"><pre>Tree(min_split_size=1, mtry=3, split_type=&#x27;2means&#x27;)</pre></div></div></div></div></div></div></div></div></div></div>"
      ],
      "text/plain": [
       "BaggedRegressor(bootstrap_fraction=1, bootstrap_replace=True,\n",
       "                estimator=Tree(min_split_size=1, mtry=3, split_type='2means'),\n",
       "                n_jobs=4)"
      ]
     },
     "execution_count": 12,
     "metadata": {},
     "output_type": "execute_result"
    }
   ],
   "source": [
    "base = Tree(split_type='2means',\n",
    "            impurity_method='cart',\n",
    "            mtry=3, # Take sqrt(predictor variables)\n",
    "            min_split_size=1)\n",
    "forest = BaggedRegressor(estimator=base,\n",
    "                         n_estimators=100,\n",
    "                         bootstrap_fraction=1,\n",
    "                         bootstrap_replace=True,\n",
    "                         n_jobs=4)\n",
    "forest.fit(X_train, y_train)"
   ]
  },
  {
   "cell_type": "code",
   "execution_count": 43,
   "metadata": {},
   "outputs": [
    {
     "name": "stdout",
     "output_type": "stream",
     "text": [
      "MSE: 1.4591901872751496\n",
      "MSE: 0.5520137635651695\n"
     ]
    },
    {
     "data": {
      "text/plain": [
       "0.9206349206349206"
      ]
     },
     "execution_count": 43,
     "metadata": {},
     "output_type": "execute_result"
    }
   ],
   "source": [
    "forest_predictions = forest.predict(X_test)\n",
    "print(f'MSE: {mse(y_test, forest_predictions)}')\n",
    "\n",
    "forest_fitted = forest.predict(X_train)\n",
    "print(f'MSE: {mse(y_train, forest_fitted)}')\n",
    "\n",
    "oob_errors=forest.oob_errors()\n",
    "\n",
    "alpha=0.05\n",
    "Dalpha=np.percentile(oob_errors, (1-alpha)*100)\n",
    "np.mean(y_train.M.d(forest_predictions.data, y_test.data) <= Dalpha)"
   ]
  },
  {
   "cell_type": "code",
   "execution_count": 16,
   "metadata": {},
   "outputs": [
    {
     "data": {
      "image/png": "[encoded data removed]",
      "text/plain": [
       "<Figure size 640x480 with 9 Axes>"
      ]
     },
     "metadata": {},
     "output_type": "display_data"
    }
   ],
   "source": [
    "matrices_to_plot=[]\n",
    "for i in [0,10,20,24]:\n",
    "    matrices_to_plot.append(log_chol_to_spd(y_test.data[i]))\n",
    "    matrices_to_plot.append(log_chol_to_spd(forest_predictions.data[i]))\n",
    "visualize_positive_definite_matrices(matrices=matrices_to_plot, layout=(4,2))"
   ]
  },
  {
   "cell_type": "code",
   "execution_count": 17,
   "metadata": {},
   "outputs": [
    {
     "data": {
      "image/png": "[encoded data removed]",
      "text/plain": [
       "<Figure size 640x480 with 13 Axes>"
      ]
     },
     "metadata": {},
     "output_type": "display_data"
    }
   ],
   "source": [
    "visualize_positive_definite_matrices(sampleY[2:14])"
   ]
  },
  {
   "cell_type": "markdown",
   "metadata": {},
   "source": [
    "### Scenario 2"
   ]
  },
  {
   "cell_type": "code",
   "execution_count": 33,
   "metadata": {},
   "outputs": [],
   "source": [
    "def rho1(X: np.ndarray, beta1: np.ndarray) -> float:\n",
    "    return 0.8*np.cos(4*np.pi*np.dot(X, beta1))\n",
    "\n",
    "def rho2(X: np.ndarray, bata2: np.ndarray) -> float:\n",
    "    return 0.4*np.cos(4*np.pi*np.dot(X, beta2))\n",
    "\n",
    "def DX(X: np.ndarray, beta1: np.ndarray, beta2: np.ndarray) -> np.ndarray:\n",
    "    return np.array([[1, rho1(X, beta1), rho2(X, beta2)],\n",
    "                     [rho1(X, beta1), 1, rho1(X, beta1)],\n",
    "                     [rho2(X, beta2), rho1(X, beta1), 1]])\n",
    "\n",
    "def sim_DX(beta1: np.ndarray, beta2: np.ndarray, size: int) -> tuple[list, list]:\n",
    "    \"\"\"\n",
    "    Function to sample predictors (X_1,...,X_p) following U([0,1]^p) with p=beta.size and its\n",
    "    corresponding D(X) matrix (using DX() function above).\n",
    "    It returns a tuple of two lists, one for the sample of predictors and other for the sample\n",
    "    of matrices D(X).\n",
    "\n",
    "    beta is the vector of parameters for the simulation and must be provided\n",
    "    size is the number of samples to draw\n",
    "\n",
    "    REFERENCE:\n",
    "    [1] Random Forest Weighted Local Frechet Regression (R. Yu)\n",
    "    \"\"\"\n",
    "    sampleX=[]\n",
    "    sample=[]\n",
    "    for n in range(size):\n",
    "        X=np.random.uniform(size=beta.size)\n",
    "        sampleX.append(X)\n",
    "        sample.append(DX(X, beta1, beta2))\n",
    "\n",
    "    return (sampleX, sample)"
   ]
  },
  {
   "cell_type": "code",
   "execution_count": 34,
   "metadata": {},
   "outputs": [],
   "source": [
    "beta1_2=np.array([0.75, 0.25]); beta2_2=np.array([0.75, 0.25])\n",
    "beta1_5=np.array([0.1, 0.2, 0.3, 0.4, 0]); beta2_5=np.array([0, 0.1, 0.2, 0.3, 0.4])\n",
    "beta1_10=np.array([0.1, 0.2, 0.3, 0.4, 0, 0, 0, 0, 0, 0]); beta2_10=np.array([0, 0, 0, 0, 0, 0, 0.1, 0.2, 0.3, 0.4])\n",
    "beta1_20=np.zeros(shape=20); beta1_20[[0,1,2,3]]=[0.1, 0.2, 0.3, 0.4]\n",
    "beta2_20=np.zeros(shape=20); beta2_20[[-4,-3,-2,-1]]=[0.1, 0.2, 0.3, 0.4]\n"
   ]
  },
  {
   "cell_type": "markdown",
   "metadata": {},
   "source": [
    "#### $p=10$"
   ]
  },
  {
   "cell_type": "code",
   "execution_count": null,
   "metadata": {},
   "outputs": [],
   "source": [
    "sample_DX=sim_DX(beta1_10, beta2_10, size=250)\n",
    "sample_logY=[]\n",
    "for k in range(len(sample_DX[1])):\n",
    "    sample_logY.append(sim_matrix_normal_one(M=sample_DX[1][k], var=0.2**2, random_state=100))\n",
    "\n",
    "sampleY=[expm(A) for A in sample_logY]\n",
    "\n",
    "X=np.c_[sample_DX[0]]\n",
    "sampleY_LogChol=np.c_[[spd_to_log_chol(A) for A in sampleY]]\n",
    "M=LogCholesky(dim=10)\n",
    "y=MetricData(M, sampleY_LogChol)\n",
    "\n",
    "X_train, X_test, y_train, y_test = train_test_split(X, y, test_size=0.25, random_state=100)\n",
    "\n",
    "scaler=MinMaxScaler(feature_range=(0,1))\n",
    "X_train=scaler.fit_transform(X_train)\n",
    "X_test=scaler.transform(X_test)"
   ]
  },
  {
   "cell_type": "code",
   "execution_count": null,
   "metadata": {},
   "outputs": [],
   "source": [
    "base = Tree(split_type='2means',\n",
    "            impurity_method='cart',\n",
    "            mtry=3, # Take sqrt(predictor variables)\n",
    "            min_split_size=1)\n",
    "forest = BaggedRegressor(estimator=base,\n",
    "                         n_estimators=100,\n",
    "                         bootstrap_fraction=1,\n",
    "                         bootstrap_replace=True,\n",
    "                         n_jobs=4)\n",
    "forest.fit(X_train, y_train)"
   ]
  },
  {
   "cell_type": "code",
   "execution_count": null,
   "metadata": {},
   "outputs": [],
   "source": [
    "forest_predictions = forest.predict(X_test)\n",
    "print(f'MSE: {mse(y_test, forest_predictions)}')\n",
    "\n",
    "forest_fitted = forest.predict(X_train)\n",
    "print(f'MSE: {mse(y_train, forest_fitted)}')\n",
    "\n",
    "oob_errors=forest.oob_errors()\n",
    "\n",
    "alpha=0.05\n",
    "Dalpha=np.percentile(oob_errors, (1-alpha)*100)\n",
    "np.mean(y_train.M.d(forest_predictions.data, y_test.data) <= Dalpha)"
   ]
  },
  {
   "cell_type": "code",
   "execution_count": null,
   "metadata": {},
   "outputs": [],
   "source": [
    "matrices_to_plot=[]\n",
    "for i in [0,10,20,24]:\n",
    "    matrices_to_plot.append(log_chol_to_spd(y_test.data[i]))\n",
    "    matrices_to_plot.append(log_chol_to_spd(forest_predictions.data[i]))\n",
    "visualize_positive_definite_matrices(matrices=matrices_to_plot, layout=(4,2))"
   ]
  },
  {
   "cell_type": "code",
   "execution_count": null,
   "metadata": {},
   "outputs": [],
   "source": [
    "visualize_positive_definite_matrices(sampleY[2:14])"
   ]
  },
  {
   "cell_type": "markdown",
   "metadata": {},
   "source": [
    "#### $p=20$"
   ]
  },
  {
   "cell_type": "code",
   "execution_count": null,
   "metadata": {},
   "outputs": [],
   "source": [
    "sample_DX=sim_DX(beta1_20, beta2_20, size=250)\n",
    "sample_logY=[]\n",
    "for k in range(len(sample_DX[1])):\n",
    "    sample_logY.append(sim_matrix_normal_one(M=sample_DX[1][k], var=0.2**2, random_state=100))\n",
    "\n",
    "sampleY=[expm(A) for A in sample_logY]\n",
    "\n",
    "X=np.c_[sample_DX[0]]\n",
    "sampleY_LogChol=np.c_[[spd_to_log_chol(A) for A in sampleY]]\n",
    "M=LogCholesky(dim=10)\n",
    "y=MetricData(M, sampleY_LogChol)\n",
    "\n",
    "X_train, X_test, y_train, y_test = train_test_split(X, y, test_size=0.25, random_state=100)\n",
    "\n",
    "scaler=MinMaxScaler(feature_range=(0,1))\n",
    "X_train=scaler.fit_transform(X_train)\n",
    "X_test=scaler.transform(X_test)"
   ]
  },
  {
   "cell_type": "code",
   "execution_count": null,
   "metadata": {},
   "outputs": [],
   "source": [
    "base = Tree(split_type='2means',\n",
    "            impurity_method='cart',\n",
    "            mtry=4, # Take sqrt(predictor variables)\n",
    "            min_split_size=1)\n",
    "forest = BaggedRegressor(estimator=base,\n",
    "                         n_estimators=100,\n",
    "                         bootstrap_fraction=1,\n",
    "                         bootstrap_replace=True,\n",
    "                         n_jobs=4)\n",
    "forest.fit(X_train, y_train)"
   ]
  },
  {
   "cell_type": "code",
   "execution_count": null,
   "metadata": {},
   "outputs": [],
   "source": [
    "forest_predictions = forest.predict(X_test)\n",
    "print(f'MSE: {mse(y_test, forest_predictions)}')\n",
    "\n",
    "forest_fitted = forest.predict(X_train)\n",
    "print(f'MSE: {mse(y_train, forest_fitted)}')\n",
    "\n",
    "oob_errors=forest.oob_errors()\n",
    "\n",
    "alpha=0.05\n",
    "Dalpha=np.percentile(oob_errors, (1-alpha)*100)\n",
    "np.mean(y_train.M.d(forest_predictions.data, y_test.data) <= Dalpha)"
   ]
  },
  {
   "cell_type": "code",
   "execution_count": null,
   "metadata": {},
   "outputs": [],
   "source": [
    "matrices_to_plot=[]\n",
    "for i in [0,10,20,24]:\n",
    "    matrices_to_plot.append(log_chol_to_spd(y_test.data[i]))\n",
    "    matrices_to_plot.append(log_chol_to_spd(forest_predictions.data[i]))\n",
    "visualize_positive_definite_matrices(matrices=matrices_to_plot, layout=(4,2))"
   ]
  },
  {
   "cell_type": "code",
   "execution_count": null,
   "metadata": {},
   "outputs": [],
   "source": [
    "visualize_positive_definite_matrices(sampleY[2:14])"
   ]
  },
  {
   "cell_type": "code",
   "execution_count": null,
   "metadata": {},
   "outputs": [],
   "source": []
  },
  {
   "cell_type": "code",
   "execution_count": null,
   "metadata": {},
   "outputs": [],
   "source": []
  },
  {
   "cell_type": "markdown",
   "metadata": {},
   "source": [
    "## Simulation for Wishart matrices"
   ]
  },
  {
   "cell_type": "code",
   "execution_count": 10,
   "metadata": {},
   "outputs": [
    {
     "name": "stdout",
     "output_type": "stream",
     "text": [
      "(3, 2, 2)\n"
     ]
    },
    {
     "data": {
      "text/plain": [
       "[array([[7.41214745, 6.15425083],\n",
       "        [6.15425083, 8.68345727]]),\n",
       " array([[2.98953082, 1.92194675],\n",
       "        [1.92194675, 3.05776317]]),\n",
       " array([[5.26782209, 4.74908998],\n",
       "        [4.74908998, 4.52489975]])]"
      ]
     },
     "execution_count": 10,
     "metadata": {},
     "output_type": "execute_result"
    }
   ],
   "source": [
    "# Test wishart matrices\n",
    "V=np.array([[1, 0.7],\n",
    "            [0.7, 1]])\n",
    "w=wishart(df=3, scale=V)\n",
    "print(w.rvs(size=3, random_state=42).shape)\n",
    "sample_list=[A for A in w.rvs(size=3, random_state=42)[:]]\n",
    "sample_list"
   ]
  },
  {
   "cell_type": "code",
   "execution_count": 13,
   "metadata": {},
   "outputs": [
    {
     "data": {
      "text/plain": [
       "array([[1., 0.],\n",
       "       [0., 1.]])"
      ]
     },
     "execution_count": 13,
     "metadata": {},
     "output_type": "execute_result"
    }
   ],
   "source": [
    "def scale_matrix(t):\n",
    "    return np.array([[1, 0.7*2*(t-0.5)],\n",
    "                     [0.7*2*(t-0.5), 1]])\n",
    "\n",
    "scale_matrix(0.5)"
   ]
  },
  {
   "cell_type": "code",
   "execution_count": 69,
   "metadata": {},
   "outputs": [],
   "source": [
    "def sim_regression_matrices(size: int=1,\n",
    "                            random_state: int=42,\n",
    "                            df: int=2):\n",
    "    np.random.seed(random_state)\n",
    "    sample_t=np.sort(np.random.uniform(size=size))\n",
    "    sample_V=[wishart(df=df, scale=scale_matrix(sample_t[k])).rvs(size=1) for k in range(sample_t.size)]\n",
    "\n",
    "    return (sample_t, sample_V)\n",
    "\n",
    "sample=sim_regression_matrices(size=100, random_state=111)"
   ]
  },
  {
   "cell_type": "code",
   "execution_count": 62,
   "metadata": {},
   "outputs": [
    {
     "data": {
      "text/plain": [
       "array([0.02247832, 0.07395756, 0.08119266, 0.11836775, 0.14916296,\n",
       "       0.16906975, 0.23772645, 0.23868214, 0.27425353, 0.2953253 ,\n",
       "       0.33765619, 0.42022449, 0.43605902, 0.46622141, 0.61217018,\n",
       "       0.62124292, 0.66960024, 0.76926247, 0.90077418, 0.99071246])"
      ]
     },
     "execution_count": 62,
     "metadata": {},
     "output_type": "execute_result"
    }
   ],
   "source": [
    "sample[0]"
   ]
  },
  {
   "cell_type": "code",
   "execution_count": 70,
   "metadata": {},
   "outputs": [],
   "source": [
    "X=np.c_[sample[0]]\n",
    "sampleY_LogChol=np.c_[[spd_to_log_chol(A) for A in sample[1]]]\n",
    "M=LogCholesky(dim=2)\n",
    "y=MetricData(M, sampleY_LogChol)\n",
    "\n",
    "X_train, X_test, y_train, y_test = train_test_split(X, y, test_size=0.25, random_state=100)\n",
    "scaler=MinMaxScaler(feature_range=(0,1))\n",
    "X_train=scaler.fit_transform(X_train)\n",
    "X_test=scaler.transform(X_test)"
   ]
  },
  {
   "cell_type": "code",
   "execution_count": 71,
   "metadata": {},
   "outputs": [
    {
     "data": {
      "text/html": [
       "<style>#sk-container-id-1 {color: black;}#sk-container-id-1 pre{padding: 0;}#sk-container-id-1 div.sk-toggleable {background-color: white;}#sk-container-id-1 label.sk-toggleable__label {cursor: pointer;display: block;width: 100%;margin-bottom: 0;padding: 0.3em;box-sizing: border-box;text-align: center;}#sk-container-id-1 label.sk-toggleable__label-arrow:before {content: \"▸\";float: left;margin-right: 0.25em;color: #696969;}#sk-container-id-1 label.sk-toggleable__label-arrow:hover:before {color: black;}#sk-container-id-1 div.sk-estimator:hover label.sk-toggleable__label-arrow:before {color: black;}#sk-container-id-1 div.sk-toggleable__content {max-height: 0;max-width: 0;overflow: hidden;text-align: left;background-color: #f0f8ff;}#sk-container-id-1 div.sk-toggleable__content pre {margin: 0.2em;color: black;border-radius: 0.25em;background-color: #f0f8ff;}#sk-container-id-1 input.sk-toggleable__control:checked~div.sk-toggleable__content {max-height: 200px;max-width: 100%;overflow: auto;}#sk-container-id-1 input.sk-toggleable__control:checked~label.sk-toggleable__label-arrow:before {content: \"▾\";}#sk-container-id-1 div.sk-estimator input.sk-toggleable__control:checked~label.sk-toggleable__label {background-color: #d4ebff;}#sk-container-id-1 div.sk-label input.sk-toggleable__control:checked~label.sk-toggleable__label {background-color: #d4ebff;}#sk-container-id-1 input.sk-hidden--visually {border: 0;clip: rect(1px 1px 1px 1px);clip: rect(1px, 1px, 1px, 1px);height: 1px;margin: -1px;overflow: hidden;padding: 0;position: absolute;width: 1px;}#sk-container-id-1 div.sk-estimator {font-family: monospace;background-color: #f0f8ff;border: 1px dotted black;border-radius: 0.25em;box-sizing: border-box;margin-bottom: 0.5em;}#sk-container-id-1 div.sk-estimator:hover {background-color: #d4ebff;}#sk-container-id-1 div.sk-parallel-item::after {content: \"\";width: 100%;border-bottom: 1px solid gray;flex-grow: 1;}#sk-container-id-1 div.sk-label:hover label.sk-toggleable__label {background-color: #d4ebff;}#sk-container-id-1 div.sk-serial::before {content: \"\";position: absolute;border-left: 1px solid gray;box-sizing: border-box;top: 0;bottom: 0;left: 50%;z-index: 0;}#sk-container-id-1 div.sk-serial {display: flex;flex-direction: column;align-items: center;background-color: white;padding-right: 0.2em;padding-left: 0.2em;position: relative;}#sk-container-id-1 div.sk-item {position: relative;z-index: 1;}#sk-container-id-1 div.sk-parallel {display: flex;align-items: stretch;justify-content: center;background-color: white;position: relative;}#sk-container-id-1 div.sk-item::before, #sk-container-id-1 div.sk-parallel-item::before {content: \"\";position: absolute;border-left: 1px solid gray;box-sizing: border-box;top: 0;bottom: 0;left: 50%;z-index: -1;}#sk-container-id-1 div.sk-parallel-item {display: flex;flex-direction: column;z-index: 1;position: relative;background-color: white;}#sk-container-id-1 div.sk-parallel-item:first-child::after {align-self: flex-end;width: 50%;}#sk-container-id-1 div.sk-parallel-item:last-child::after {align-self: flex-start;width: 50%;}#sk-container-id-1 div.sk-parallel-item:only-child::after {width: 0;}#sk-container-id-1 div.sk-dashed-wrapped {border: 1px dashed gray;margin: 0 0.4em 0.5em 0.4em;box-sizing: border-box;padding-bottom: 0.4em;background-color: white;}#sk-container-id-1 div.sk-label label {font-family: monospace;font-weight: bold;display: inline-block;line-height: 1.2em;}#sk-container-id-1 div.sk-label-container {text-align: center;}#sk-container-id-1 div.sk-container {/* jupyter's `normalize.less` sets `[hidden] { display: none; }` but bootstrap.min.css set `[hidden] { display: none !important; }` so we also need the `!important` here to be able to override the default hidden behavior on the sphinx rendered scikit-learn.org. See: https://github.com/scikit-learn/scikit-learn/issues/21755 */display: inline-block !important;position: relative;}#sk-container-id-1 div.sk-text-repr-fallback {display: none;}</style><div id=\"sk-container-id-1\" class=\"sk-top-container\"><div class=\"sk-text-repr-fallback\"><pre>BaggedRegressor(bootstrap_fraction=1, bootstrap_replace=True,\n",
       "                estimator=Tree(min_split_size=1, split_type=&#x27;2means&#x27;),\n",
       "                n_jobs=4)</pre><b>In a Jupyter environment, please rerun this cell to show the HTML representation or trust the notebook. <br />On GitHub, the HTML representation is unable to render, please try loading this page with nbviewer.org.</b></div><div class=\"sk-container\" hidden><div class=\"sk-item sk-dashed-wrapped\"><div class=\"sk-label-container\"><div class=\"sk-label sk-toggleable\"><input class=\"sk-toggleable__control sk-hidden--visually\" id=\"sk-estimator-id-1\" type=\"checkbox\" ><label for=\"sk-estimator-id-1\" class=\"sk-toggleable__label sk-toggleable__label-arrow\">BaggedRegressor</label><div class=\"sk-toggleable__content\"><pre>BaggedRegressor(bootstrap_fraction=1, bootstrap_replace=True,\n",
       "                estimator=Tree(min_split_size=1, split_type=&#x27;2means&#x27;),\n",
       "                n_jobs=4)</pre></div></div></div><div class=\"sk-parallel\"><div class=\"sk-parallel-item\"><div class=\"sk-item\"><div class=\"sk-label-container\"><div class=\"sk-label sk-toggleable\"><input class=\"sk-toggleable__control sk-hidden--visually\" id=\"sk-estimator-id-2\" type=\"checkbox\" ><label for=\"sk-estimator-id-2\" class=\"sk-toggleable__label sk-toggleable__label-arrow\">estimator: Tree</label><div class=\"sk-toggleable__content\"><pre>Tree(min_split_size=1, split_type=&#x27;2means&#x27;)</pre></div></div></div><div class=\"sk-serial\"><div class=\"sk-item\"><div class=\"sk-estimator sk-toggleable\"><input class=\"sk-toggleable__control sk-hidden--visually\" id=\"sk-estimator-id-3\" type=\"checkbox\" ><label for=\"sk-estimator-id-3\" class=\"sk-toggleable__label sk-toggleable__label-arrow\">Tree</label><div class=\"sk-toggleable__content\"><pre>Tree(min_split_size=1, split_type=&#x27;2means&#x27;)</pre></div></div></div></div></div></div></div></div></div></div>"
      ],
      "text/plain": [
       "BaggedRegressor(bootstrap_fraction=1, bootstrap_replace=True,\n",
       "                estimator=Tree(min_split_size=1, split_type='2means'),\n",
       "                n_jobs=4)"
      ]
     },
     "execution_count": 71,
     "metadata": {},
     "output_type": "execute_result"
    }
   ],
   "source": [
    "base = Tree(split_type='2means',\n",
    "            impurity_method='cart',\n",
    "            mtry=None, # It is a regression curve setting, only one predictor\n",
    "            min_split_size=1)\n",
    "forest = BaggedRegressor(estimator=base,\n",
    "                         n_estimators=100,\n",
    "                         bootstrap_fraction=1,\n",
    "                         bootstrap_replace=True,\n",
    "                         n_jobs=4)\n",
    "forest.fit(X_train, y_train)"
   ]
  },
  {
   "cell_type": "code",
   "execution_count": 72,
   "metadata": {},
   "outputs": [
    {
     "name": "stdout",
     "output_type": "stream",
     "text": [
      "MSE: 3.245977116245455\n",
      "MSE: 2.0871295921165474\n"
     ]
    },
    {
     "data": {
      "text/plain": [
       "0.96"
      ]
     },
     "execution_count": 72,
     "metadata": {},
     "output_type": "execute_result"
    }
   ],
   "source": [
    "forest_predictions = forest.predict(X_test)\n",
    "print(f'MSE: {mse(y_test, forest_predictions)}')\n",
    "\n",
    "forest_fitted = forest.predict(X_train)\n",
    "print(f'MSE: {mse(y_train, forest_fitted)}')\n",
    "\n",
    "oob_errors=forest.oob_errors()\n",
    "\n",
    "alpha=0.05\n",
    "Dalpha=np.percentile(oob_errors, (1-alpha)*100)\n",
    "np.mean(y_train.M.d(forest_predictions.data, y_test.data) <= Dalpha)"
   ]
  },
  {
   "cell_type": "code",
   "execution_count": 90,
   "metadata": {},
   "outputs": [
    {
     "data": {
      "image/png": "[encoded data removed]",
      "text/plain": [
       "<Figure size 640x480 with 9 Axes>"
      ]
     },
     "metadata": {},
     "output_type": "display_data"
    }
   ],
   "source": [
    "def visualize_positive_definite_matrices(matrices, layout: Union[tuple, None]=None,\n",
    "                                         cmap='viridis'):\n",
    "    \"\"\"\n",
    "    layout=(num_rows, num_cols)\n",
    "    \"\"\"\n",
    "    if not layout:\n",
    "        num_cols = int(np.ceil(np.sqrt(num_matrices)))\n",
    "        num_rows = int(np.ceil(num_matrices / num_cols))\n",
    "    else:\n",
    "        num_rows=layout[0]\n",
    "        num_cols=layout[1]\n",
    "\n",
    "    fig, axs = plt.subplots(num_rows, num_cols)\n",
    "\n",
    "    # Loop through the matrices and plot them\n",
    "    for i, matrix in enumerate(matrices):\n",
    "        row = i // num_cols\n",
    "        col = i % num_cols\n",
    "        ax = axs[row, col]\n",
    "        cax = ax.matshow(matrix, cmap=cmap)\n",
    "        # ax.set_title(f'Matrix {i+1}')\n",
    "\n",
    "        ax.set_xticks([])\n",
    "        ax.set_yticks([])\n",
    "\n",
    "    # Create a single colorbar for all matrices\n",
    "    fig.colorbar(cax, ax=axs.ravel().tolist(), location='bottom')\n",
    "    plt.show()\n",
    "\n",
    "matrices_to_plot=[]\n",
    "for i in [0,10,20,24]:\n",
    "    matrices_to_plot.append(log_chol_to_spd(y_test.data[i]))\n",
    "    matrices_to_plot.append(log_chol_to_spd(forest_predictions.data[i]))\n",
    "visualize_positive_definite_matrices(matrices=matrices_to_plot, layout=(4,2))"
   ]
  },
  {
   "cell_type": "code",
   "execution_count": 92,
   "metadata": {},
   "outputs": [
    {
     "data": {
      "image/png": "[encoded data removed]",
      "text/plain": [
       "<Figure size 640x480 with 17 Axes>"
      ]
     },
     "metadata": {},
     "output_type": "display_data"
    }
   ],
   "source": [
    "matrices_to_plot=[log_chol_to_spd(A) for A in y_test.data][0:16]\n",
    "visualize_positive_definite_matrices(matrices_to_plot, layout=(4,4), cmap='viridis')"
   ]
  },
  {
   "cell_type": "code",
   "execution_count": 79,
   "metadata": {},
   "outputs": [
    {
     "data": {
      "text/plain": [
       "[array([[ 0.46479117, -0.3938718 ],\n",
       "        [-0.3938718 ,  4.43069112]]),\n",
       " array([[ 2.25682915, -1.91425692],\n",
       "        [-1.91425692,  1.63836097]]),\n",
       " array([[ 4.66403901, -2.69989305],\n",
       "        [-2.69989305,  1.69275284]]),\n",
       " array([[ 5.18476588, -4.67860549],\n",
       "        [-4.67860549,  4.38221154]]),\n",
       " array([[ 0.32753371, -0.10422701],\n",
       "        [-0.10422701,  0.19468008]]),\n",
       " array([[ 1.2289335 , -0.09134487],\n",
       "        [-0.09134487,  0.33785995]]),\n",
       " array([[ 1.21245308, -1.02430784],\n",
       "        [-1.02430784,  0.88429641]]),\n",
       " array([[0.63792096, 0.91122573],\n",
       "        [0.91122573, 1.44794915]]),\n",
       " array([[0.06465385, 0.09824239],\n",
       "        [0.09824239, 1.56745429]]),\n",
       " array([[ 6.75948501, -6.22758341],\n",
       "        [-6.22758341,  6.20362434]]),\n",
       " array([[ 0.22464575, -0.76001577],\n",
       "        [-0.76001577,  2.80982852]]),\n",
       " array([[ 0.23399221, -0.37444676],\n",
       "        [-0.37444676,  1.47168524]]),\n",
       " array([[ 0.61660305, -0.18044864],\n",
       "        [-0.18044864,  2.52023601]]),\n",
       " array([[ 1.01909686, -0.94480691],\n",
       "        [-0.94480691,  2.36741754]]),\n",
       " array([[ 5.20289519, -7.62563944],\n",
       "        [-7.62563944, 12.73212668]]),\n",
       " array([[0.24838212, 0.15424587],\n",
       "        [0.15424587, 0.09598679]]),\n",
       " array([[0.1993019 , 0.377728  ],\n",
       "        [0.377728  , 2.13077993]]),\n",
       " array([[ 2.01842715, -0.93658919],\n",
       "        [-0.93658919,  1.16174217]]),\n",
       " array([[0.58112279, 0.23485685],\n",
       "        [0.23485685, 0.43874922]]),\n",
       " array([[4.05385835, 0.4776161 ],\n",
       "        [0.4776161 , 0.16815228]]),\n",
       " array([[ 2.6694483 , -2.21349945],\n",
       "        [-2.21349945,  1.83569155]]),\n",
       " array([[ 2.64719013, -2.60830186],\n",
       "        [-2.60830186,  2.57011184]]),\n",
       " array([[2.16675843, 1.33460676],\n",
       "        [1.33460676, 2.63442293]]),\n",
       " array([[ 1.11088311, -0.2291763 ],\n",
       "        [-0.2291763 ,  1.75444853]]),\n",
       " array([[ 0.25132406, -0.55255707],\n",
       "        [-0.55255707,  1.28261545]]),\n",
       " array([[ 5.32098508, -2.77967081],\n",
       "        [-2.77967081,  1.69201592]]),\n",
       " array([[0.05057949, 0.02047031],\n",
       "        [0.02047031, 2.35635478]]),\n",
       " array([[ 1.45315263, -0.29316035],\n",
       "        [-0.29316035,  0.6701547 ]]),\n",
       " array([[ 0.5972743 , -0.53344605],\n",
       "        [-0.53344605,  0.48095124]]),\n",
       " array([[ 0.86726065, -0.71246344],\n",
       "        [-0.71246344,  3.97001266]]),\n",
       " array([[0.99881535, 0.52643428],\n",
       "        [0.52643428, 1.92048128]]),\n",
       " array([[ 0.17014322, -0.33335542],\n",
       "        [-0.33335542,  0.65333506]]),\n",
       " array([[ 1.73560079, -0.24928321],\n",
       "        [-0.24928321,  0.48217616]]),\n",
       " array([[3.11574703, 2.67871145],\n",
       "        [2.67871145, 3.83558658]]),\n",
       " array([[ 2.24040977, -0.04001339],\n",
       "        [-0.04001339,  0.68488674]]),\n",
       " array([[0.1745303 , 0.02309185],\n",
       "        [0.02309185, 0.58029382]]),\n",
       " array([[ 1.72107459, -1.62740016],\n",
       "        [-1.62740016,  1.61845364]]),\n",
       " array([[ 6.9646485 , -0.26815416],\n",
       "        [-0.26815416,  3.15647526]]),\n",
       " array([[ 1.72143579, -3.33912949],\n",
       "        [-3.33912949,  6.76008498]]),\n",
       " array([[ 2.09232605, -1.92336334],\n",
       "        [-1.92336334,  1.88764554]]),\n",
       " array([[ 1.08069054, -0.95511452],\n",
       "        [-0.95511452,  0.97089053]]),\n",
       " array([[0.92907716, 0.40331132],\n",
       "        [0.40331132, 0.57137375]]),\n",
       " array([[0.96747313, 0.38209635],\n",
       "        [0.38209635, 1.76964816]]),\n",
       " array([[ 0.24663063, -0.79508071],\n",
       "        [-0.79508071,  4.07973913]]),\n",
       " array([[0.19630435, 0.03156281],\n",
       "        [0.03156281, 4.78670724]]),\n",
       " array([[0.60044059, 0.15600163],\n",
       "        [0.15600163, 0.17916871]]),\n",
       " array([[0.16332425, 0.44337341],\n",
       "        [0.44337341, 3.50056716]]),\n",
       " array([[ 1.08886211, -0.39815368],\n",
       "        [-0.39815368,  0.58293401]]),\n",
       " array([[ 3.84120893, -3.07758045],\n",
       "        [-3.07758045,  2.50422588]]),\n",
       " array([[ 1.71514244, -2.07997461],\n",
       "        [-2.07997461,  2.55719058]]),\n",
       " array([[ 0.48641214, -0.15350306],\n",
       "        [-0.15350306,  0.25449025]]),\n",
       " array([[ 3.66821821, -0.20354263],\n",
       "        [-0.20354263,  0.56842081]]),\n",
       " array([[ 1.10851717, -2.41119501],\n",
       "        [-2.41119501,  6.1374997 ]]),\n",
       " array([[ 2.46999981, -1.42732729],\n",
       "        [-1.42732729,  0.82878894]]),\n",
       " array([[ 0.26831838, -0.04258826],\n",
       "        [-0.04258826,  0.01977784]]),\n",
       " array([[1.21488553, 1.76813074],\n",
       "        [1.76813074, 2.57525369]]),\n",
       " array([[ 1.40834772, -2.10148468],\n",
       "        [-2.10148468,  3.14018621]]),\n",
       " array([[ 0.19440783, -0.50305541],\n",
       "        [-0.50305541,  3.0117058 ]]),\n",
       " array([[1.67957317, 0.46199668],\n",
       "        [0.46199668, 2.37268252]]),\n",
       " array([[0.16958559, 0.19885129],\n",
       "        [0.19885129, 1.87033514]]),\n",
       " array([[3.05663141, 1.05274227],\n",
       "        [1.05274227, 2.24664891]]),\n",
       " array([[6.89970872, 4.66232137],\n",
       "        [4.66232137, 6.49059554]]),\n",
       " array([[ 2.11302863, -0.84586233],\n",
       "        [-0.84586233,  0.52952355]]),\n",
       " array([[3.10023185, 0.2355874 ],\n",
       "        [0.2355874 , 0.28203101]]),\n",
       " array([[ 2.6271018 , -0.53055911],\n",
       "        [-0.53055911,  0.13328188]]),\n",
       " array([[ 0.05442787, -0.0737465 ],\n",
       "        [-0.0737465 ,  0.47669046]]),\n",
       " array([[ 1.10383991, -0.94733096],\n",
       "        [-0.94733096,  2.5258156 ]]),\n",
       " array([[1.46277018, 0.57021742],\n",
       "        [0.57021742, 0.94768063]]),\n",
       " array([[2.81700447, 1.40914388],\n",
       "        [1.40914388, 0.71241179]]),\n",
       " array([[0.76081591, 0.97589593],\n",
       "        [0.97589593, 1.3127324 ]]),\n",
       " array([[0.61419079, 0.95008072],\n",
       "        [0.95008072, 5.24382002]]),\n",
       " array([[ 5.90241323e-03, -5.05678328e-02],\n",
       "        [-5.05678328e-02,  6.43209158e+00]]),\n",
       " array([[1.48331302, 1.86188681],\n",
       "        [1.86188681, 2.33807115]]),\n",
       " array([[ 2.39207278, -0.6621042 ],\n",
       "        [-0.6621042 ,  0.34130589]]),\n",
       " array([[ 1.09878146, -0.63018281],\n",
       "        [-0.63018281,  0.83192128]]),\n",
       " array([[ 0.4785332 , -0.37994138],\n",
       "        [-0.37994138,  0.32946739]]),\n",
       " array([[ 0.71519865, -0.26500571],\n",
       "        [-0.26500571,  0.83040209]]),\n",
       " array([[1.2690227 , 0.54591067],\n",
       "        [0.54591067, 0.6942315 ]]),\n",
       " array([[4.00952603, 4.56892965],\n",
       "        [4.56892965, 5.83327918]]),\n",
       " array([[ 0.06801038, -0.20556477],\n",
       "        [-0.20556477,  0.94802942]]),\n",
       " array([[0.02011231, 0.01361844],\n",
       "        [0.01361844, 1.98261466]]),\n",
       " array([[ 0.97761782, -0.6176962 ],\n",
       "        [-0.6176962 ,  1.11783512]]),\n",
       " array([[ 0.39454768, -0.13996383],\n",
       "        [-0.13996383,  0.82173181]]),\n",
       " array([[ 0.06645723, -0.30161664],\n",
       "        [-0.30161664,  1.39831615]]),\n",
       " array([[0.32033738, 0.11002087],\n",
       "        [0.11002087, 0.40589224]]),\n",
       " array([[1.495272  , 0.54193986],\n",
       "        [0.54193986, 0.2032344 ]]),\n",
       " array([[0.49623813, 0.97070947],\n",
       "        [0.97070947, 2.06855287]]),\n",
       " array([[0.04238948, 0.2915261 ],\n",
       "        [0.2915261 , 2.02575417]]),\n",
       " array([[9.79091628, 0.92697531],\n",
       "        [0.92697531, 0.58995571]]),\n",
       " array([[ 3.84242741, -2.75754909],\n",
       "        [-2.75754909,  2.90373015]]),\n",
       " array([[1.32328394, 0.33770583],\n",
       "        [0.33770583, 0.47626614]]),\n",
       " array([[1.76038001, 1.83652176],\n",
       "        [1.83652176, 2.31529235]]),\n",
       " array([[2.04057761, 2.42189961],\n",
       "        [2.42189961, 3.10147429]]),\n",
       " array([[0.23885492, 0.30447349],\n",
       "        [0.30447349, 0.48940493]]),\n",
       " array([[1.20636474, 1.05561988],\n",
       "        [1.05561988, 0.93150677]]),\n",
       " array([[ 2.82298843, -0.49382536],\n",
       "        [-0.49382536,  0.92844163]]),\n",
       " array([[ 1.16581662, -0.25087745],\n",
       "        [-0.25087745,  0.51696737]]),\n",
       " array([[1.14677282, 0.33855351],\n",
       "        [0.33855351, 0.99083765]]),\n",
       " array([[ 0.37670075, -0.34468937],\n",
       "        [-0.34468937,  0.77473045]]),\n",
       " array([[3.37422364, 2.98218919],\n",
       "        [2.98218919, 2.67225082]])]"
      ]
     },
     "execution_count": 79,
     "metadata": {},
     "output_type": "execute_result"
    }
   ],
   "source": [
    "sample[1]"
   ]
  },
  {
   "cell_type": "code",
   "execution_count": null,
   "metadata": {},
   "outputs": [],
   "source": []
  },
  {
   "cell_type": "code",
   "execution_count": 94,
   "metadata": {},
   "outputs": [
    {
     "data": {
      "image/png": "[encoded data removed]",
      "text/plain": [
       "<Figure size 640x480 with 1 Axes>"
      ]
     },
     "metadata": {},
     "output_type": "display_data"
    }
   ],
   "source": [
    "import numpy as np\n",
    "import matplotlib.pyplot as plt\n",
    "from matplotlib.patches import Ellipse\n",
    "\n",
    "# Example covariance matrix\n",
    "# cov_matrix = np.array([[1.0, 0.5],\n",
    "#                        [0.5, 2.0]])\n",
    "cov_matrix=sample[1][0]\n",
    "\n",
    "# Compute eigenvalues and eigenvectors of the covariance matrix\n",
    "eigenvalues, eigenvectors = np.linalg.eig(cov_matrix)\n",
    "\n",
    "# Compute the angle of rotation from the eigenvectors\n",
    "theta = np.degrees(np.arctan2(*eigenvectors[:, 0][::-1]))\n",
    "\n",
    "# Create figure and axis\n",
    "fig, ax = plt.subplots()\n",
    "\n",
    "# Plot the covariance ellipse\n",
    "ellipse = Ellipse(xy=(0, 0),\n",
    "                  width=np.sqrt(eigenvalues[0]),\n",
    "                  height=np.sqrt(eigenvalues[1]),\n",
    "                  angle=theta,\n",
    "                  edgecolor='red',\n",
    "                  fc='None',\n",
    "                  lw=2)\n",
    "ax.add_patch(ellipse)\n",
    "\n",
    "# Set aspect of plot to equal to make circles look like circles\n",
    "ax.set_aspect('equal', 'box')\n",
    "\n",
    "# Set labels and title\n",
    "plt.xlabel('Variable 1')\n",
    "plt.ylabel('Variable 2')\n",
    "plt.title('Covariance Ellipse')\n",
    "\n",
    "# Set limits based on eigenvalues for better visualization\n",
    "# lim = 2* np.sqrt(eigenvalues)  # 95% confidence interval (Chi-squared distribution with df=2)\n",
    "# plt.xlim(-lim[0], lim[0])\n",
    "# plt.ylim(-lim[1], lim[1])\n",
    "plt.xlim(-4,4)\n",
    "plt.ylim(-4,4)\n",
    "\n",
    "plt.grid(True)\n",
    "plt.show()\n"
   ]
  },
  {
   "cell_type": "code",
   "execution_count": 135,
   "metadata": {},
   "outputs": [
    {
     "data": {
      "image/png": "[encoded data removed]",
      "text/plain": [
       "<Figure size 640x480 with 1 Axes>"
      ]
     },
     "metadata": {},
     "output_type": "display_data"
    }
   ],
   "source": [
    "def plot_ellipse(mat: np.ndarray, ax, \n",
    "                 xy: tuple=(0,0),\n",
    "                 scale_factor=1,\n",
    "                 edgecolor='red',\n",
    "                 facecolor='None',\n",
    "                 linewidth=2,\n",
    "                 alpha=1):\n",
    "    eigenvalues, eigenvectors = np.linalg.eig(mat)\n",
    "    theta = np.degrees(np.arctan2(*eigenvectors[:, 0][::-1]))\n",
    "    ellipse = Ellipse(xy=xy,\n",
    "                  width=scale_factor*np.sqrt(eigenvalues[0]),\n",
    "                  height=scale_factor*np.sqrt(eigenvalues[1]),\n",
    "                  angle=theta,\n",
    "                  edgecolor=edgecolor,\n",
    "                  facecolor=facecolor,\n",
    "                  lw=linewidth,\n",
    "                  alpha=alpha)\n",
    "    ax.add_patch(ellipse)\n",
    "\n",
    "fig, ax=plt.subplots()\n",
    "for i in [1,4,8,12]:\n",
    "    plot_ellipse(sample[1][i], ax=ax, xy=(i/10,0))\n",
    "ax.set_aspect('equal', 'box')\n",
    "lim=1.5\n",
    "plt.xlim(-lim,lim)\n",
    "plt.ylim(-lim,lim)\n",
    "plt.grid(True)\n",
    "plt.show()"
   ]
  },
  {
   "cell_type": "code",
   "execution_count": 140,
   "metadata": {},
   "outputs": [
    {
     "data": {
      "image/png": "[encoded data removed]",
      "text/plain": [
       "<Figure size 640x480 with 1 Axes>"
      ]
     },
     "metadata": {},
     "output_type": "display_data"
    }
   ],
   "source": [
    "fig, ax=plt.subplots()\n",
    "for i in range(0, y_train.data.shape[0], 10):\n",
    "    plot_ellipse(log_chol_to_spd(y_train.data[i]), ax=ax, xy=(i/20,0), scale_factor=1/2)\n",
    "ax.set_aspect('equal', 'box')\n",
    "xlim=4\n",
    "ylim=1\n",
    "plt.xlim(-1,xlim)\n",
    "plt.ylim(-ylim,ylim)\n",
    "plt.grid(True)\n",
    "plt.show()"
   ]
  },
  {
   "cell_type": "code",
   "execution_count": 141,
   "metadata": {},
   "outputs": [
    {
     "data": {
      "image/png": "[encoded data removed]",
      "text/plain": [
       "<Figure size 640x480 with 1 Axes>"
      ]
     },
     "metadata": {},
     "output_type": "display_data"
    }
   ],
   "source": [
    "fig, ax=plt.subplots()\n",
    "for i in range(0, forest_predictions.data.shape[0], 4):\n",
    "    plot_ellipse(log_chol_to_spd(forest_predictions.data[i]), ax=ax, xy=(i/20,0), scale_factor=1/2)\n",
    "ax.set_aspect('equal', 'box')\n",
    "xlim=4\n",
    "ylim=1\n",
    "plt.xlim(-1,xlim)\n",
    "plt.ylim(-ylim,ylim)\n",
    "plt.grid(True)\n",
    "plt.show()"
   ]
  }
 ],
 "metadata": {
  "kernelspec": {
   "display_name": "base",
   "language": "python",
   "name": "python3"
  },
  "language_info": {
   "codemirror_mode": {
    "name": "ipython",
    "version": 3
   },
   "file_extension": ".py",
   "mimetype": "text/x-python",
   "name": "python",
   "nbconvert_exporter": "python",
   "pygments_lexer": "ipython3",
   "version": "3.9.7"
  }
 },
 "nbformat": 4,
 "nbformat_minor": 2
}

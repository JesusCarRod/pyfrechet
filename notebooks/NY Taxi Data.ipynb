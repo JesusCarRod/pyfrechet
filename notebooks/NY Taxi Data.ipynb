{
 "cells": [
  {
   "cell_type": "code",
   "execution_count": 1,
   "metadata": {},
   "outputs": [
    {
     "name": "stderr",
     "output_type": "stream",
     "text": [
      "INFO: Using numpy backend\n"
     ]
    }
   ],
   "source": [
    "import sys, os; sys.path.append(os.path.dirname(os.getcwd())) \n",
    "\n",
    "import matplotlib.pyplot as plt\n",
    "from matplotlib.patches import Ellipse\n",
    "from matplotlib.cm import get_cmap\n",
    "\n",
    "# from ipywidgets import *\n",
    "\n",
    "from typing import Union\n",
    "\n",
    "import numpy as np\n",
    "import pandas as pd\n",
    "import pickle\n",
    "from datetime import datetime, timedelta\n",
    "from tqdm import tqdm\n",
    "from scipy.linalg import expm\n",
    "from sklearn.model_selection import train_test_split\n",
    "from sklearn.utils.validation import check_is_fitted\n",
    "from sklearn.preprocessing import MinMaxScaler\n",
    "from scipy.stats import wishart\n",
    "# from sklearn.model_selection import cross_val_score\n",
    "# from sklearn.model_selection import GridSearchCV\n",
    "# from sklearn import neighbors, clone\n",
    "\n",
    "\n",
    "from pyfrechet.metric_spaces import MetricData, Euclidean, LogCholesky, spd_to_log_chol, log_chol_to_spd\n",
    "# from pyfrechet.regression.frechet_regression import LocalFrechet, GlobalFrechet\n",
    "# from pyfrechet.regression.kernels import NadarayaWatson, gaussian, epanechnikov\n",
    "# from pyfrechet.regression.knn import KNearestNeighbours\n",
    "from pyfrechet.regression.bagged_regressor import BaggedRegressor\n",
    "from pyfrechet.regression.trees import Tree\n",
    "from pyfrechet.metrics import mse"
   ]
  },
  {
   "cell_type": "markdown",
   "metadata": {},
   "source": [
    "# Data preparation"
   ]
  },
  {
   "cell_type": "code",
   "execution_count": 2,
   "metadata": {},
   "outputs": [
    {
     "name": "stdout",
     "output_type": "stream",
     "text": [
      "(31, 17)\n",
      "(28, 17)\n",
      "0\n",
      "0\n"
     ]
    }
   ],
   "source": [
    "weather_data_jan=pd.read_excel('NY Weather Data.xlsx', sheet_name='January 2019 NY', skiprows=1)\n",
    "weather_data_feb=pd.read_excel('NY Weather Data.xlsx', sheet_name='February 2019 NY', skiprows=1)\n",
    "\n",
    "weather_colnames=['Day', 'Temp.Max', 'Temp.Avg', 'Temp.Min', 'DewPoint.Max', 'DewPoint.Avg', 'DewPoint.Min', \n",
    "                  'Humidity.Max', 'Humidity.Avg', 'Humidity.Min', 'WindSpeed.Max', 'WindSpeed.Avg', 'WindSpeed.Min',\n",
    "                  'Pressure.Max', 'Pressure.Avg', 'Pressure.Min', 'Precipitation']\n",
    "\n",
    "weather_data_jan.columns=weather_colnames\n",
    "weather_data_feb.columns=weather_colnames\n",
    "\n",
    "print(weather_data_jan.shape)\n",
    "print(weather_data_feb.shape)\n",
    "print(weather_data_jan.isna().sum().sum())\n",
    "print(weather_data_feb.isna().sum().sum())"
   ]
  },
  {
   "cell_type": "code",
   "execution_count": 17,
   "metadata": {},
   "outputs": [
    {
     "data": {
      "text/html": [
       "<div>\n",
       "<style scoped>\n",
       "    .dataframe tbody tr th:only-of-type {\n",
       "        vertical-align: middle;\n",
       "    }\n",
       "\n",
       "    .dataframe tbody tr th {\n",
       "        vertical-align: top;\n",
       "    }\n",
       "\n",
       "    .dataframe thead th {\n",
       "        text-align: right;\n",
       "    }\n",
       "</style>\n",
       "<table border=\"1\" class=\"dataframe\">\n",
       "  <thead>\n",
       "    <tr style=\"text-align: right;\">\n",
       "      <th></th>\n",
       "      <th>Day</th>\n",
       "      <th>Temp.Max</th>\n",
       "      <th>Temp.Avg</th>\n",
       "      <th>Temp.Min</th>\n",
       "      <th>DewPoint.Max</th>\n",
       "      <th>DewPoint.Avg</th>\n",
       "      <th>DewPoint.Min</th>\n",
       "      <th>Humidity.Max</th>\n",
       "      <th>Humidity.Avg</th>\n",
       "      <th>Humidity.Min</th>\n",
       "      <th>WindSpeed.Max</th>\n",
       "      <th>WindSpeed.Avg</th>\n",
       "      <th>WindSpeed.Min</th>\n",
       "      <th>Pressure.Max</th>\n",
       "      <th>Pressure.Avg</th>\n",
       "      <th>Pressure.Min</th>\n",
       "      <th>Precipitation</th>\n",
       "    </tr>\n",
       "  </thead>\n",
       "  <tbody>\n",
       "    <tr>\n",
       "      <th>0</th>\n",
       "      <td>1</td>\n",
       "      <td>16</td>\n",
       "      <td>10.6</td>\n",
       "      <td>5</td>\n",
       "      <td>12</td>\n",
       "      <td>5.6</td>\n",
       "      <td>-3</td>\n",
       "      <td>97</td>\n",
       "      <td>73.5</td>\n",
       "      <td>50</td>\n",
       "      <td>44</td>\n",
       "      <td>24.7</td>\n",
       "      <td>0</td>\n",
       "      <td>1021.0</td>\n",
       "      <td>1008.3</td>\n",
       "      <td>1001.3</td>\n",
       "      <td>35.31</td>\n",
       "    </tr>\n",
       "    <tr>\n",
       "      <th>1</th>\n",
       "      <td>2</td>\n",
       "      <td>5</td>\n",
       "      <td>3.0</td>\n",
       "      <td>2</td>\n",
       "      <td>-2</td>\n",
       "      <td>-5.3</td>\n",
       "      <td>-6</td>\n",
       "      <td>62</td>\n",
       "      <td>54.9</td>\n",
       "      <td>50</td>\n",
       "      <td>24</td>\n",
       "      <td>13.7</td>\n",
       "      <td>6</td>\n",
       "      <td>1027.4</td>\n",
       "      <td>1023.8</td>\n",
       "      <td>1018.2</td>\n",
       "      <td>0.00</td>\n",
       "    </tr>\n",
       "    <tr>\n",
       "      <th>2</th>\n",
       "      <td>3</td>\n",
       "      <td>7</td>\n",
       "      <td>5.5</td>\n",
       "      <td>4</td>\n",
       "      <td>3</td>\n",
       "      <td>-0.9</td>\n",
       "      <td>-6</td>\n",
       "      <td>86</td>\n",
       "      <td>64.7</td>\n",
       "      <td>45</td>\n",
       "      <td>33</td>\n",
       "      <td>16.7</td>\n",
       "      <td>0</td>\n",
       "      <td>1017.2</td>\n",
       "      <td>1013.4</td>\n",
       "      <td>1010.8</td>\n",
       "      <td>0.00</td>\n",
       "    </tr>\n",
       "    <tr>\n",
       "      <th>3</th>\n",
       "      <td>4</td>\n",
       "      <td>8</td>\n",
       "      <td>5.8</td>\n",
       "      <td>3</td>\n",
       "      <td>3</td>\n",
       "      <td>-1.7</td>\n",
       "      <td>-5</td>\n",
       "      <td>71</td>\n",
       "      <td>59.1</td>\n",
       "      <td>50</td>\n",
       "      <td>28</td>\n",
       "      <td>15.8</td>\n",
       "      <td>6</td>\n",
       "      <td>1015.9</td>\n",
       "      <td>1012.9</td>\n",
       "      <td>1007.1</td>\n",
       "      <td>0.00</td>\n",
       "    </tr>\n",
       "    <tr>\n",
       "      <th>4</th>\n",
       "      <td>5</td>\n",
       "      <td>8</td>\n",
       "      <td>6.7</td>\n",
       "      <td>6</td>\n",
       "      <td>6</td>\n",
       "      <td>4.7</td>\n",
       "      <td>1</td>\n",
       "      <td>96</td>\n",
       "      <td>88.2</td>\n",
       "      <td>68</td>\n",
       "      <td>33</td>\n",
       "      <td>21.9</td>\n",
       "      <td>9</td>\n",
       "      <td>1006.1</td>\n",
       "      <td>1000.1</td>\n",
       "      <td>994.5</td>\n",
       "      <td>5.84</td>\n",
       "    </tr>\n",
       "  </tbody>\n",
       "</table>\n",
       "</div>"
      ],
      "text/plain": [
       "   Day  Temp.Max  Temp.Avg  Temp.Min  DewPoint.Max  DewPoint.Avg  \\\n",
       "0    1        16      10.6         5            12           5.6   \n",
       "1    2         5       3.0         2            -2          -5.3   \n",
       "2    3         7       5.5         4             3          -0.9   \n",
       "3    4         8       5.8         3             3          -1.7   \n",
       "4    5         8       6.7         6             6           4.7   \n",
       "\n",
       "   DewPoint.Min  Humidity.Max  Humidity.Avg  Humidity.Min  WindSpeed.Max  \\\n",
       "0            -3            97          73.5            50             44   \n",
       "1            -6            62          54.9            50             24   \n",
       "2            -6            86          64.7            45             33   \n",
       "3            -5            71          59.1            50             28   \n",
       "4             1            96          88.2            68             33   \n",
       "\n",
       "   WindSpeed.Avg  WindSpeed.Min  Pressure.Max  Pressure.Avg  Pressure.Min  \\\n",
       "0           24.7              0        1021.0        1008.3        1001.3   \n",
       "1           13.7              6        1027.4        1023.8        1018.2   \n",
       "2           16.7              0        1017.2        1013.4        1010.8   \n",
       "3           15.8              6        1015.9        1012.9        1007.1   \n",
       "4           21.9              9        1006.1        1000.1         994.5   \n",
       "\n",
       "   Precipitation  \n",
       "0          35.31  \n",
       "1           0.00  \n",
       "2           0.00  \n",
       "3           0.00  \n",
       "4           5.84  "
      ]
     },
     "execution_count": 17,
     "metadata": {},
     "output_type": "execute_result"
    }
   ],
   "source": [
    "weather_data_jan.head()"
   ]
  },
  {
   "cell_type": "code",
   "execution_count": 4,
   "metadata": {},
   "outputs": [
    {
     "data": {
      "text/html": [
       "<div>\n",
       "<style scoped>\n",
       "    .dataframe tbody tr th:only-of-type {\n",
       "        vertical-align: middle;\n",
       "    }\n",
       "\n",
       "    .dataframe tbody tr th {\n",
       "        vertical-align: top;\n",
       "    }\n",
       "\n",
       "    .dataframe thead th {\n",
       "        text-align: right;\n",
       "    }\n",
       "</style>\n",
       "<table border=\"1\" class=\"dataframe\">\n",
       "  <thead>\n",
       "    <tr style=\"text-align: right;\">\n",
       "      <th></th>\n",
       "      <th>Zone</th>\n",
       "    </tr>\n",
       "  </thead>\n",
       "  <tbody>\n",
       "    <tr>\n",
       "      <th>3</th>\n",
       "      <td>Alphabet City</td>\n",
       "    </tr>\n",
       "    <tr>\n",
       "      <th>11</th>\n",
       "      <td>Battery Park</td>\n",
       "    </tr>\n",
       "    <tr>\n",
       "      <th>12</th>\n",
       "      <td>Battery Park City</td>\n",
       "    </tr>\n",
       "    <tr>\n",
       "      <th>23</th>\n",
       "      <td>Bloomingdale</td>\n",
       "    </tr>\n",
       "    <tr>\n",
       "      <th>40</th>\n",
       "      <td>Central Harlem</td>\n",
       "    </tr>\n",
       "    <tr>\n",
       "      <th>...</th>\n",
       "      <td>...</td>\n",
       "    </tr>\n",
       "    <tr>\n",
       "      <th>245</th>\n",
       "      <td>West Chelsea/Hudson Yards</td>\n",
       "    </tr>\n",
       "    <tr>\n",
       "      <th>248</th>\n",
       "      <td>West Village</td>\n",
       "    </tr>\n",
       "    <tr>\n",
       "      <th>260</th>\n",
       "      <td>World Trade Center</td>\n",
       "    </tr>\n",
       "    <tr>\n",
       "      <th>261</th>\n",
       "      <td>Yorkville East</td>\n",
       "    </tr>\n",
       "    <tr>\n",
       "      <th>262</th>\n",
       "      <td>Yorkville West</td>\n",
       "    </tr>\n",
       "  </tbody>\n",
       "</table>\n",
       "<p>69 rows × 1 columns</p>\n",
       "</div>"
      ],
      "text/plain": [
       "                          Zone\n",
       "3                Alphabet City\n",
       "11                Battery Park\n",
       "12           Battery Park City\n",
       "23                Bloomingdale\n",
       "40              Central Harlem\n",
       "..                         ...\n",
       "245  West Chelsea/Hudson Yards\n",
       "248               West Village\n",
       "260         World Trade Center\n",
       "261             Yorkville East\n",
       "262             Yorkville West\n",
       "\n",
       "[69 rows x 1 columns]"
      ]
     },
     "execution_count": 4,
     "metadata": {},
     "output_type": "execute_result"
    }
   ],
   "source": [
    "taxi_zones=pd.read_csv('taxi+_zone_lookup.csv')\n",
    "# list(taxi_zones[taxi_zones.Borough=='Manhattan'].Zone)\n",
    "taxi_zones[taxi_zones.Borough=='Manhattan'][['Zone']]"
   ]
  },
  {
   "cell_type": "code",
   "execution_count": 5,
   "metadata": {},
   "outputs": [],
   "source": [
    "# Aggregate the different zones of Manhattan in the 10 groups\n",
    "zones_correspondence={\n",
    "    1: ['Central Harlem', 'Central Harlem North', 'Central Park', 'East Harlem North', 'East Harlem South',\n",
    "        'Hamilton Heights', 'Inwood', 'Inwood Hill Park', 'Washington Heights North', 'Washington Heights South'],\n",
    "    2: ['Bloomingdale', 'Manhattan Valley', 'Manhattanville', 'Morningside Heights', 'Upper West Side North', \n",
    "        'Upper West Side South'],\n",
    "    3: ['Lenox Hill East', 'Lenox Hill West', 'Upper East Side North', 'Upper East Side South', 'Yorkville East',\n",
    "        'Yorkville West'],\n",
    "    4: ['Clinton East', 'Clinton West', 'East Chelsea', 'Lincoln Square East', 'Lincoln Square West', 'West Chelsea/Hudson Yards'],\n",
    "    5: ['Garment District', 'Penn Station/Madison Sq West'],\n",
    "    6: ['Midtown Center' ,'Midtown East', 'Midtown North', 'Times Sq/Theatre District'],\n",
    "    7: ['Flatiron', 'Midtown South'],\n",
    "    8: ['Gramercy', 'Kips Bay', 'Murray Hill', 'Stuy Town/Peter Cooper Village', 'Sutton Place/Turtle Bay North',\n",
    "        'UN/Turtle Bay South', 'Union Sq'],\n",
    "    9: ['Battery Park', 'Battery Park City', 'China Town', 'Greenwich Village North', 'Greenwich Village South',\n",
    "        'Hudson Sq', 'Little Italy/NoLiTa', 'Meatpacking/West Village West', 'Seaport', 'SoHo', 'TriBeCa/Civic Center',\n",
    "        'West Village', 'World Trade Center'],\n",
    "    10: ['Alphabet City', 'East Village', 'Financial District North', 'Financial District South',\n",
    "         'Lower East Side', 'Two Bridges/Seward Park']\n",
    "}\n",
    "\n",
    "not_manhattan=[\"Governor's Island/Ellis Island/Liberty Island\",\n",
    "               \"Highbridge Park\", \"Marble Hill\", \"Randalls Island\",\n",
    "               \"Roosevelt Island\"]"
   ]
  },
  {
   "cell_type": "code",
   "execution_count": 6,
   "metadata": {},
   "outputs": [
    {
     "data": {
      "text/plain": [
       "{1: [41, 42, 43, 74, 75, 116, 127, 128, 243, 244],\n",
       " 2: [24, 151, 152, 166, 238, 239],\n",
       " 3: [140, 141, 236, 237, 262, 263],\n",
       " 4: [48, 50, 68, 142, 143, 246],\n",
       " 5: [100, 186],\n",
       " 6: [161, 162, 163, 230],\n",
       " 7: [90, 164],\n",
       " 8: [107, 137, 170, 224, 229, 233, 234],\n",
       " 9: [12, 13, 113, 114, 125, 144, 158, 209, 211, 231, 249, 261],\n",
       " 10: [4, 79, 87, 88, 148, 232]}"
      ]
     },
     "execution_count": 6,
     "metadata": {},
     "output_type": "execute_result"
    }
   ],
   "source": [
    "zones_correspondence_ids={\n",
    "    1: [],\n",
    "    2: [],\n",
    "    3: [],\n",
    "    4: [],\n",
    "    5: [],\n",
    "    6: [],\n",
    "    7: [],\n",
    "    8: [],\n",
    "    9: [],\n",
    "    10: [],\n",
    "}\n",
    "\n",
    "for index, zone in taxi_zones[taxi_zones.Borough=='Manhattan']['Zone'].iteritems():\n",
    "    for key in zones_correspondence.keys():\n",
    "        if zone in zones_correspondence[key]:\n",
    "            zones_correspondence_ids[key].append(index+1)\n",
    "\n",
    "zones_correspondence_ids"
   ]
  },
  {
   "cell_type": "code",
   "execution_count": 7,
   "metadata": {},
   "outputs": [],
   "source": [
    "zones_correspondence_ids_1to1={}\n",
    "\n",
    "for (key, value) in zones_correspondence_ids.items():\n",
    "    for ID in value:\n",
    "        zones_correspondence_ids_1to1[ID]=key"
   ]
  },
  {
   "cell_type": "code",
   "execution_count": 7,
   "metadata": {},
   "outputs": [],
   "source": [
    "taxi_data_jan=pd.read_csv('yellow_tripdata_2019-01.csv')\n",
    "taxi_data_feb=pd.read_csv('yellow_tripdata_2019-02.csv')\n",
    "\n",
    "taxi_data_jan.drop(columns=['congestion_surcharge', 'VendorID', 'store_and_fwd_flag', \n",
    "                            'extra', 'mta_tax', 'tolls_amount', 'improvement_surcharge', 'RatecodeID'], inplace=True)\n",
    "taxi_data_feb.drop(columns=['congestion_surcharge', 'VendorID', 'store_and_fwd_flag', \n",
    "                            'extra', 'mta_tax', 'tolls_amount', 'improvement_surcharge', 'RatecodeID'], inplace=True)\n"
   ]
  },
  {
   "cell_type": "code",
   "execution_count": 105,
   "metadata": {},
   "outputs": [
    {
     "name": "stdout",
     "output_type": "stream",
     "text": [
      "0\n",
      "0\n",
      "<class 'pandas.core.frame.DataFrame'>\n",
      "RangeIndex: 7667792 entries, 0 to 7667791\n",
      "Data columns (total 11 columns):\n",
      " #   Column                 Dtype  \n",
      "---  ------                 -----  \n",
      " 0   tpep_pickup_datetime   object \n",
      " 1   tpep_dropoff_datetime  object \n",
      " 2   passenger_count        int64  \n",
      " 3   trip_distance          float64\n",
      " 4   RatecodeID             int64  \n",
      " 5   PULocationID           int64  \n",
      " 6   DOLocationID           int64  \n",
      " 7   payment_type           int64  \n",
      " 8   fare_amount            float64\n",
      " 9   tip_amount             float64\n",
      " 10  total_amount           float64\n",
      "dtypes: float64(4), int64(5), object(2)\n",
      "memory usage: 643.5+ MB\n",
      "None\n"
     ]
    }
   ],
   "source": [
    "print(taxi_data_jan.isna().sum().sum())\n",
    "print(taxi_data_feb.isna().sum().sum())\n",
    "print(taxi_data_jan.info())"
   ]
  },
  {
   "cell_type": "code",
   "execution_count": 8,
   "metadata": {},
   "outputs": [],
   "source": [
    "zones_to_keep=[]\n",
    "for value in zones_correspondence_ids.values():\n",
    "    zones_to_keep+=value\n",
    "\n",
    "taxi_data_jan_manh=taxi_data_jan[(taxi_data_jan.PULocationID.isin(zones_to_keep)) & (taxi_data_jan.DOLocationID.isin(zones_to_keep))]\n",
    "taxi_data_feb_manh=taxi_data_feb[(taxi_data_feb.PULocationID.isin(zones_to_keep)) & (taxi_data_feb.DOLocationID.isin(zones_to_keep))]\n",
    "\n",
    "del taxi_data_jan\n",
    "del taxi_data_feb\n",
    "\n",
    "taxi_data_jan_manh['tpep_pickup_datetime']=pd.to_datetime(taxi_data_jan_manh['tpep_pickup_datetime'])\n",
    "taxi_data_jan_manh['tpep_dropoff_datetime']=pd.to_datetime(taxi_data_jan_manh['tpep_dropoff_datetime'])\n",
    "taxi_data_feb_manh['tpep_pickup_datetime']=pd.to_datetime(taxi_data_feb_manh['tpep_pickup_datetime'])\n",
    "taxi_data_feb_manh['tpep_dropoff_datetime']=pd.to_datetime(taxi_data_feb_manh['tpep_dropoff_datetime'])"
   ]
  },
  {
   "cell_type": "code",
   "execution_count": 11,
   "metadata": {},
   "outputs": [],
   "source": [
    "PUZone_jan=[]\n",
    "DOZone_jan=[]\n",
    "PUZone_feb=[]\n",
    "DOZone_feb=[]\n",
    "\n",
    "for zone in taxi_data_jan_manh['PULocationID']:\n",
    "    PUZone_jan.append(zones_correspondence_ids_1to1[zone])\n",
    "\n",
    "for zone in taxi_data_jan_manh['DOLocationID']:\n",
    "    DOZone_jan.append(zones_correspondence_ids_1to1[zone])\n",
    "\n",
    "for zone in taxi_data_feb_manh['PULocationID']:\n",
    "    PUZone_feb.append(zones_correspondence_ids_1to1[zone])\n",
    "\n",
    "for zone in taxi_data_feb_manh['DOLocationID']:\n",
    "    DOZone_feb.append(zones_correspondence_ids_1to1[zone])\n",
    "\n",
    "taxi_data_jan_manh['PULocationZone']=PUZone_jan\n",
    "taxi_data_jan_manh['DOLocationZone']=DOZone_jan\n",
    "taxi_data_feb_manh['PULocationZone']=PUZone_feb\n",
    "taxi_data_feb_manh['DOLocationZone']=DOZone_feb\n",
    "\n",
    "del PUZone_jan, DOZone_jan, PUZone_feb, DOZone_feb"
   ]
  },
  {
   "cell_type": "code",
   "execution_count": 12,
   "metadata": {},
   "outputs": [
    {
     "data": {
      "text/html": [
       "<div>\n",
       "<style scoped>\n",
       "    .dataframe tbody tr th:only-of-type {\n",
       "        vertical-align: middle;\n",
       "    }\n",
       "\n",
       "    .dataframe tbody tr th {\n",
       "        vertical-align: top;\n",
       "    }\n",
       "\n",
       "    .dataframe thead th {\n",
       "        text-align: right;\n",
       "    }\n",
       "</style>\n",
       "<table border=\"1\" class=\"dataframe\">\n",
       "  <thead>\n",
       "    <tr style=\"text-align: right;\">\n",
       "      <th></th>\n",
       "      <th>tpep_pickup_datetime</th>\n",
       "      <th>tpep_dropoff_datetime</th>\n",
       "      <th>passenger_count</th>\n",
       "      <th>trip_distance</th>\n",
       "      <th>PULocationID</th>\n",
       "      <th>DOLocationID</th>\n",
       "      <th>payment_type</th>\n",
       "      <th>fare_amount</th>\n",
       "      <th>tip_amount</th>\n",
       "      <th>total_amount</th>\n",
       "      <th>PULocationZone</th>\n",
       "      <th>DOLocationZone</th>\n",
       "    </tr>\n",
       "  </thead>\n",
       "  <tbody>\n",
       "    <tr>\n",
       "      <th>0</th>\n",
       "      <td>2019-02-01 00:59:04</td>\n",
       "      <td>2019-02-01 01:07:27</td>\n",
       "      <td>1</td>\n",
       "      <td>2.1</td>\n",
       "      <td>48</td>\n",
       "      <td>234</td>\n",
       "      <td>1</td>\n",
       "      <td>9.0</td>\n",
       "      <td>2.0</td>\n",
       "      <td>12.3</td>\n",
       "      <td>4</td>\n",
       "      <td>8</td>\n",
       "    </tr>\n",
       "    <tr>\n",
       "      <th>4</th>\n",
       "      <td>2019-02-01 00:25:30</td>\n",
       "      <td>2019-02-01 00:28:14</td>\n",
       "      <td>1</td>\n",
       "      <td>0.8</td>\n",
       "      <td>140</td>\n",
       "      <td>263</td>\n",
       "      <td>2</td>\n",
       "      <td>5.0</td>\n",
       "      <td>0.0</td>\n",
       "      <td>6.3</td>\n",
       "      <td>3</td>\n",
       "      <td>3</td>\n",
       "    </tr>\n",
       "    <tr>\n",
       "      <th>5</th>\n",
       "      <td>2019-02-01 00:38:02</td>\n",
       "      <td>2019-02-01 00:40:57</td>\n",
       "      <td>1</td>\n",
       "      <td>0.8</td>\n",
       "      <td>229</td>\n",
       "      <td>141</td>\n",
       "      <td>2</td>\n",
       "      <td>4.5</td>\n",
       "      <td>0.0</td>\n",
       "      <td>5.8</td>\n",
       "      <td>8</td>\n",
       "      <td>3</td>\n",
       "    </tr>\n",
       "    <tr>\n",
       "      <th>6</th>\n",
       "      <td>2019-02-01 00:06:49</td>\n",
       "      <td>2019-02-01 00:10:34</td>\n",
       "      <td>1</td>\n",
       "      <td>0.9</td>\n",
       "      <td>75</td>\n",
       "      <td>41</td>\n",
       "      <td>2</td>\n",
       "      <td>5.0</td>\n",
       "      <td>0.0</td>\n",
       "      <td>6.3</td>\n",
       "      <td>1</td>\n",
       "      <td>1</td>\n",
       "    </tr>\n",
       "    <tr>\n",
       "      <th>7</th>\n",
       "      <td>2019-02-01 00:04:04</td>\n",
       "      <td>2019-02-01 00:24:27</td>\n",
       "      <td>1</td>\n",
       "      <td>2.8</td>\n",
       "      <td>246</td>\n",
       "      <td>229</td>\n",
       "      <td>2</td>\n",
       "      <td>14.0</td>\n",
       "      <td>0.0</td>\n",
       "      <td>15.3</td>\n",
       "      <td>4</td>\n",
       "      <td>8</td>\n",
       "    </tr>\n",
       "  </tbody>\n",
       "</table>\n",
       "</div>"
      ],
      "text/plain": [
       "  tpep_pickup_datetime tpep_dropoff_datetime  passenger_count  trip_distance  \\\n",
       "0  2019-02-01 00:59:04   2019-02-01 01:07:27                1            2.1   \n",
       "4  2019-02-01 00:25:30   2019-02-01 00:28:14                1            0.8   \n",
       "5  2019-02-01 00:38:02   2019-02-01 00:40:57                1            0.8   \n",
       "6  2019-02-01 00:06:49   2019-02-01 00:10:34                1            0.9   \n",
       "7  2019-02-01 00:04:04   2019-02-01 00:24:27                1            2.8   \n",
       "\n",
       "   PULocationID  DOLocationID  payment_type  fare_amount  tip_amount  \\\n",
       "0            48           234             1          9.0         2.0   \n",
       "4           140           263             2          5.0         0.0   \n",
       "5           229           141             2          4.5         0.0   \n",
       "6            75            41             2          5.0         0.0   \n",
       "7           246           229             2         14.0         0.0   \n",
       "\n",
       "   total_amount  PULocationZone  DOLocationZone  \n",
       "0          12.3               4               8  \n",
       "4           6.3               3               3  \n",
       "5           5.8               8               3  \n",
       "6           6.3               1               1  \n",
       "7          15.3               4               8  "
      ]
     },
     "execution_count": 12,
     "metadata": {},
     "output_type": "execute_result"
    }
   ],
   "source": [
    "taxi_data_feb_manh.head()"
   ]
  },
  {
   "cell_type": "code",
   "execution_count": 13,
   "metadata": {},
   "outputs": [
    {
     "name": "stdout",
     "output_type": "stream",
     "text": [
      "<class 'pandas.core.frame.DataFrame'>\n",
      "Int64Index: 6467338 entries, 0 to 7667787\n",
      "Data columns (total 12 columns):\n",
      " #   Column                 Dtype         \n",
      "---  ------                 -----         \n",
      " 0   tpep_pickup_datetime   datetime64[ns]\n",
      " 1   tpep_dropoff_datetime  datetime64[ns]\n",
      " 2   passenger_count        int64         \n",
      " 3   trip_distance          float64       \n",
      " 4   PULocationID           int64         \n",
      " 5   DOLocationID           int64         \n",
      " 6   payment_type           int64         \n",
      " 7   fare_amount            float64       \n",
      " 8   tip_amount             float64       \n",
      " 9   total_amount           float64       \n",
      " 10  PULocationZone         int64         \n",
      " 11  DOLocationZone         int64         \n",
      "dtypes: datetime64[ns](2), float64(4), int64(6)\n",
      "memory usage: 641.4 MB\n"
     ]
    }
   ],
   "source": [
    "taxi_data_jan_manh.info()"
   ]
  },
  {
   "cell_type": "code",
   "execution_count": 8,
   "metadata": {},
   "outputs": [],
   "source": [
    "def create_adjacency(df: pd.DataFrame, zones_correspondence_ids: dict) -> np.ndarray:\n",
    "    mat=np.zeros((len(zones_correspondence_ids.keys()), len(zones_correspondence_ids.keys())))\n",
    "    for i in range(df.shape[0]):\n",
    "        PUzone=df.iloc[i]['PULocationZone']-1\n",
    "        DOzone=df.iloc[i]['DOLocationZone']-1\n",
    "        mat[PUzone, DOzone]+=1\n",
    "        mat[DOzone, PUzone]+=1\n",
    "    return mat\n"
   ]
  },
  {
   "cell_type": "code",
   "execution_count": 55,
   "metadata": {},
   "outputs": [
    {
     "name": "stdout",
     "output_type": "stream",
     "text": [
      "[[ 402.  220.  277.  126.   15.  110.   23.  110.   58.   45.]\n",
      " [ 220.  676.  323.  461.    9.   89.   25.  121.   97.   41.]\n",
      " [ 277.  323. 1544.  296.   36.  289.   71.  580.  209.  139.]\n",
      " [ 126.  461.  296. 1000.  105.  193.  167.  383.  423.  197.]\n",
      " [  15.    9.   36.  105.   28.   45.   46.  100.   62.   49.]\n",
      " [ 110.   89.  289.  193.   45.  286.   84.  347.  124.   91.]\n",
      " [  23.   25.   71.  167.   46.   84.   60.  264.  191.  149.]\n",
      " [ 110.  121.  580.  383.  100.  347.  264.  908.  452.  459.]\n",
      " [  58.   97.  209.  423.   62.  124.  191.  452.  864.  458.]\n",
      " [  45.   41.  139.  197.   49.   91.  149.  459.  458.  486.]]\n"
     ]
    }
   ],
   "source": [
    "date=pd.date_range(start='2019-01-01', end='2019-02-01', freq='H')[0]\n",
    "daily_df=taxi_data_jan_manh[(taxi_data_jan_manh.tpep_pickup_datetime>date) & (taxi_data_jan_manh.tpep_pickup_datetime<date+timedelta(hours=1))]\n",
    "print(create_adjacency(daily_df, zones_correspondence_ids))\n"
   ]
  },
  {
   "cell_type": "code",
   "execution_count": 57,
   "metadata": {},
   "outputs": [
    {
     "name": "stderr",
     "output_type": "stream",
     "text": [
      "Progress: 100%|██████████| 744/744 [29:17<00:00,  2.36s/it]\n"
     ]
    }
   ],
   "source": [
    "taxi_data_jan_manh_aggregate=pd.DataFrame()\n",
    "taxi_data_jan_manh_aggregate_Y=[]\n",
    "\n",
    "for date in tqdm(pd.date_range(start='2019-01-01', end='2019-01-31 23:00:00', freq='H'), desc='Progress'):\n",
    "    daily_df=taxi_data_jan_manh[(taxi_data_jan_manh.tpep_pickup_datetime>date) & (taxi_data_jan_manh.tpep_pickup_datetime<=date+timedelta(hours=1))]\n",
    "    \n",
    "    # Deprecated\n",
    "    # taxi_data_jan_manh_aggregate.append({'tpep_pickup_datetime': date,\n",
    "    #                                     'tpep_dropoff_datetime': date+timedelta(hours=1),\n",
    "    #                                     'passenger_count': daily_df['passenger_count'].mean(),\n",
    "    #                                     'trip_distance': daily_df['trip_distance'].mean(),\n",
    "    #                                     'adjacency': create_adjacency(daily_df, zones_correspondence_ids)\n",
    "    #                                     }, ignore_index=True)\n",
    "    \n",
    "    taxi_data_jan_manh_aggregate=pd.concat([taxi_data_jan_manh_aggregate, \n",
    "                                            pd.DataFrame({'hour_interval_lower': date,\n",
    "                                                        'hour_interval_upper': date+timedelta(hours=1),\n",
    "                                                        'passenger_count': daily_df['passenger_count'].mean(),\n",
    "                                                        'trip_distance': daily_df['trip_distance'].mean()\n",
    "                                            }, index=[0])], ignore_index=True)\n",
    "\n",
    "    taxi_data_jan_manh_aggregate_Y.append(create_adjacency(daily_df, zones_correspondence_ids))\n",
    "\n",
    "with open('taxi_data_jan_Y.pkl', 'wb') as f:\n",
    "    pickle.dump(taxi_data_jan_manh_aggregate_Y, f)"
   ]
  },
  {
   "cell_type": "code",
   "execution_count": 46,
   "metadata": {},
   "outputs": [
    {
     "data": {
      "text/plain": [
       "DatetimeIndex(['2019-01-01 00:00:00', '2019-01-01 01:00:00',\n",
       "               '2019-01-01 02:00:00', '2019-01-01 03:00:00',\n",
       "               '2019-01-01 04:00:00', '2019-01-01 05:00:00',\n",
       "               '2019-01-01 06:00:00', '2019-01-01 07:00:00',\n",
       "               '2019-01-01 08:00:00', '2019-01-01 09:00:00',\n",
       "               ...\n",
       "               '2019-01-31 14:00:00', '2019-01-31 15:00:00',\n",
       "               '2019-01-31 16:00:00', '2019-01-31 17:00:00',\n",
       "               '2019-01-31 18:00:00', '2019-01-31 19:00:00',\n",
       "               '2019-01-31 20:00:00', '2019-01-31 21:00:00',\n",
       "               '2019-01-31 22:00:00', '2019-01-31 23:00:00'],\n",
       "              dtype='datetime64[ns]', length=744, freq='H')"
      ]
     },
     "execution_count": 46,
     "metadata": {},
     "output_type": "execute_result"
    }
   ],
   "source": [
    "pd.date_range(start='2019-01-01', end='2019-01-31 23:00:00', freq='H')"
   ]
  },
  {
   "cell_type": "code",
   "execution_count": 66,
   "metadata": {},
   "outputs": [
    {
     "name": "stdout",
     "output_type": "stream",
     "text": [
      "       passenger_count  trip_distance\n",
      "count       744.000000     744.000000\n",
      "mean          1.574364       1.840567\n",
      "std           0.066214       0.203479\n",
      "min           1.395867       1.539820\n",
      "25%           1.523699       1.673708\n",
      "50%           1.567714       1.758784\n",
      "75%           1.626490       2.034582\n",
      "max           1.758446       2.458458\n",
      "    hour_interval_lower hour_interval_upper  passenger_count  trip_distance\n",
      "739 2019-01-31 19:00:00 2019-01-31 20:00:00         1.543949       1.687769\n",
      "740 2019-01-31 20:00:00 2019-01-31 21:00:00         1.556198       1.869081\n",
      "741 2019-01-31 21:00:00 2019-01-31 22:00:00         1.588293       2.022072\n",
      "742 2019-01-31 22:00:00 2019-01-31 23:00:00         1.589095       2.079742\n",
      "743 2019-01-31 23:00:00 2019-02-01 00:00:00         1.602095       2.074673\n"
     ]
    }
   ],
   "source": [
    "print(taxi_data_jan_manh_aggregate.describe())\n",
    "print(taxi_data_jan_manh_aggregate.tail())"
   ]
  },
  {
   "cell_type": "code",
   "execution_count": 75,
   "metadata": {},
   "outputs": [
    {
     "name": "stdout",
     "output_type": "stream",
     "text": [
      "[[122. 102. 116. 137.  20.  96.  35.  60.  42.  27.]\n",
      " [102. 336.  89. 210.  31. 111.  21.  58.  47.  18.]\n",
      " [116.  89. 570. 210. 113. 229. 105. 266. 111.  74.]\n",
      " [137. 210. 210. 648. 149. 391. 122. 285. 289. 111.]\n",
      " [ 20.  31. 113. 149.  44. 184.  48. 228. 129.  64.]\n",
      " [ 96. 111. 229. 391. 184. 370. 125. 367. 198. 129.]\n",
      " [ 35.  21. 105. 122.  48. 125.  70. 238. 187. 105.]\n",
      " [ 60.  58. 266. 285. 228. 367. 238. 684. 360. 280.]\n",
      " [ 42.  47. 111. 289. 129. 198. 187. 360. 780. 376.]\n",
      " [ 27.  18.  74. 111.  64. 129. 105. 280. 376. 366.]]\n"
     ]
    }
   ],
   "source": [
    "print(taxi_data_jan_manh_aggregate_Y[-1])"
   ]
  },
  {
   "cell_type": "code",
   "execution_count": 89,
   "metadata": {},
   "outputs": [
    {
     "name": "stderr",
     "output_type": "stream",
     "text": [
      "Progress: 100%|██████████| 672/672 [28:51<00:00,  2.58s/it]\n"
     ]
    }
   ],
   "source": [
    "taxi_data_feb_manh_aggregate=pd.DataFrame()\n",
    "taxi_data_feb_manh_aggregate_Y=[]\n",
    "\n",
    "for date in tqdm(pd.date_range(start='2019-02-01', end='2019-02-28 23:00:00', freq='H'), desc='Progress'):\n",
    "    daily_df=taxi_data_feb_manh[(taxi_data_feb_manh.tpep_pickup_datetime>date) & (taxi_data_feb_manh.tpep_pickup_datetime<=date+timedelta(hours=1))]\n",
    "    \n",
    "    # Deprecated\n",
    "    # taxi_data_feb_manh_aggregate.append({'tpep_pickup_datetime': date,\n",
    "    #                                     'tpep_dropoff_datetime': date+timedelta(hours=1),\n",
    "    #                                     'passenger_count': daily_df['passenger_count'].mean(),\n",
    "    #                                     'trip_distance': daily_df['trip_distance'].mean(),\n",
    "    #                                     'adjacency': create_adjacency(daily_df, zones_correspondence_ids)\n",
    "    #                                     }, ignore_index=True)\n",
    "    \n",
    "    taxi_data_feb_manh_aggregate=pd.concat([taxi_data_feb_manh_aggregate, \n",
    "                                            pd.DataFrame({'hour_interval_lower': date,\n",
    "                                                        'hour_interval_upper': date+timedelta(hours=1),\n",
    "                                                        'passenger_count': daily_df['passenger_count'].mean(),\n",
    "                                                        'trip_distance': daily_df['trip_distance'].mean()\n",
    "                                            }, index=[0])], ignore_index=True)\n",
    "\n",
    "    taxi_data_feb_manh_aggregate_Y.append(create_adjacency(daily_df, zones_correspondence_ids))\n",
    "\n",
    "with open('taxi_data_feb_Y.pkl', 'wb') as f:\n",
    "    pickle.dump(taxi_data_feb_manh_aggregate_Y, f)"
   ]
  },
  {
   "cell_type": "code",
   "execution_count": 90,
   "metadata": {},
   "outputs": [],
   "source": [
    "with open('taxi_data_jan_tripdata.pkl', 'wb') as f:\n",
    "    pickle.dump(taxi_data_jan_manh_aggregate, f)\n",
    "\n",
    "with open('taxi_data_feb_tripdata.pkl', 'wb') as f:\n",
    "    pickle.dump(taxi_data_feb_manh_aggregate, f)"
   ]
  },
  {
   "cell_type": "markdown",
   "metadata": {},
   "source": [
    "## Join trips data with meteorological data"
   ]
  },
  {
   "cell_type": "markdown",
   "metadata": {},
   "source": [
    "Firstly,  we have the aggregated trip data by hour:"
   ]
  },
  {
   "cell_type": "code",
   "execution_count": 10,
   "metadata": {},
   "outputs": [
    {
     "name": "stdout",
     "output_type": "stream",
     "text": [
      "<class 'pandas.core.frame.DataFrame'>\n",
      "RangeIndex: 744 entries, 0 to 743\n",
      "Data columns (total 4 columns):\n",
      " #   Column               Non-Null Count  Dtype         \n",
      "---  ------               --------------  -----         \n",
      " 0   hour_interval_lower  744 non-null    datetime64[ns]\n",
      " 1   hour_interval_upper  744 non-null    datetime64[ns]\n",
      " 2   passenger_count      744 non-null    float64       \n",
      " 3   trip_distance        744 non-null    float64       \n",
      "dtypes: datetime64[ns](2), float64(2)\n",
      "memory usage: 23.4 KB\n",
      "None\n",
      "<class 'pandas.core.frame.DataFrame'>\n",
      "RangeIndex: 672 entries, 0 to 671\n",
      "Data columns (total 4 columns):\n",
      " #   Column               Non-Null Count  Dtype         \n",
      "---  ------               --------------  -----         \n",
      " 0   hour_interval_lower  672 non-null    datetime64[ns]\n",
      " 1   hour_interval_upper  672 non-null    datetime64[ns]\n",
      " 2   passenger_count      672 non-null    float64       \n",
      " 3   trip_distance        672 non-null    float64       \n",
      "dtypes: datetime64[ns](2), float64(2)\n",
      "memory usage: 21.1 KB\n",
      "None\n"
     ]
    }
   ],
   "source": [
    "with open('taxi_data_jan_tripdata.pkl', 'rb') as f:\n",
    "    taxi_data_jan = pickle.load(f)\n",
    "\n",
    "with open('taxi_data_feb_tripdata.pkl', 'rb') as f:\n",
    "    taxi_data_feb = pickle.load(f)\n",
    "\n",
    "print(taxi_data_jan.info())\n",
    "print(taxi_data_feb.info())"
   ]
  },
  {
   "cell_type": "markdown",
   "metadata": {},
   "source": [
    "Secondly, the meteorological data by day:"
   ]
  },
  {
   "cell_type": "code",
   "execution_count": 15,
   "metadata": {},
   "outputs": [
    {
     "name": "stdout",
     "output_type": "stream",
     "text": [
      "(31, 17)\n",
      "(28, 17)\n",
      "<class 'pandas.core.frame.DataFrame'>\n",
      "RangeIndex: 31 entries, 0 to 30\n",
      "Data columns (total 17 columns):\n",
      " #   Column         Non-Null Count  Dtype  \n",
      "---  ------         --------------  -----  \n",
      " 0   Day            31 non-null     int64  \n",
      " 1   Temp.Max       31 non-null     int64  \n",
      " 2   Temp.Avg       31 non-null     float64\n",
      " 3   Temp.Min       31 non-null     int64  \n",
      " 4   DewPoint.Max   31 non-null     int64  \n",
      " 5   DewPoint.Avg   31 non-null     float64\n",
      " 6   DewPoint.Min   31 non-null     int64  \n",
      " 7   Humidity.Max   31 non-null     int64  \n",
      " 8   Humidity.Avg   31 non-null     float64\n",
      " 9   Humidity.Min   31 non-null     int64  \n",
      " 10  WindSpeed.Max  31 non-null     int64  \n",
      " 11  WindSpeed.Avg  31 non-null     float64\n",
      " 12  WindSpeed.Min  31 non-null     int64  \n",
      " 13  Pressure.Max   31 non-null     float64\n",
      " 14  Pressure.Avg   31 non-null     float64\n",
      " 15  Pressure.Min   31 non-null     float64\n",
      " 16  Precipitation  31 non-null     float64\n",
      "dtypes: float64(8), int64(9)\n",
      "memory usage: 4.2 KB\n",
      "None\n"
     ]
    }
   ],
   "source": [
    "print(weather_data_jan.shape)\n",
    "print(weather_data_feb.shape)\n",
    "print(weather_data_jan.info())\n",
    "# print(weather_data_feb.info())"
   ]
  },
  {
   "cell_type": "code",
   "execution_count": 22,
   "metadata": {},
   "outputs": [
    {
     "data": {
      "text/plain": [
       "pandas._libs.tslibs.timestamps.Timestamp"
      ]
     },
     "execution_count": 22,
     "metadata": {},
     "output_type": "execute_result"
    }
   ],
   "source": [
    "taxi_data_jan['hour_interval_lower'][0].day"
   ]
  },
  {
   "cell_type": "code",
   "execution_count": null,
   "metadata": {},
   "outputs": [],
   "source": [
    "taxi_data_jan_joined=pd.DataFrame()\n",
    "\n",
    "for index, row in taxi_data_jan.iterrows():\n",
    "    pass"
   ]
  },
  {
   "cell_type": "code",
   "execution_count": null,
   "metadata": {},
   "outputs": [],
   "source": []
  },
  {
   "cell_type": "code",
   "execution_count": null,
   "metadata": {},
   "outputs": [],
   "source": []
  },
  {
   "cell_type": "markdown",
   "metadata": {},
   "source": [
    "# Modelling"
   ]
  },
  {
   "cell_type": "code",
   "execution_count": null,
   "metadata": {},
   "outputs": [],
   "source": []
  }
 ],
 "metadata": {
  "kernelspec": {
   "display_name": "base",
   "language": "python",
   "name": "python3"
  },
  "language_info": {
   "codemirror_mode": {
    "name": "ipython",
    "version": 3
   },
   "file_extension": ".py",
   "mimetype": "text/x-python",
   "name": "python",
   "nbconvert_exporter": "python",
   "pygments_lexer": "ipython3",
   "version": "3.9.7"
  }
 },
 "nbformat": 4,
 "nbformat_minor": 2
}

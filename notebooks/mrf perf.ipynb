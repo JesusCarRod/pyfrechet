{
 "cells": [
  {
   "cell_type": "code",
   "execution_count": 23,
   "id": "6b6cd1af",
   "metadata": {
    "ExecuteTime": {
     "end_time": "2023-03-24T20:36:36.522749Z",
     "start_time": "2023-03-24T20:36:36.363483Z"
    }
   },
   "outputs": [
    {
     "name": "stdout",
     "output_type": "stream",
     "text": [
      "The autoreload extension is already loaded. To reload it, use:\n",
      "  %reload_ext autoreload\n"
     ]
    }
   ],
   "source": [
    "import sys, os; sys.path.append(os.path.dirname(os.getcwd())) \n",
    "\n",
    "import autograd.numpy as np\n",
    "\n",
    "import matplotlib.pyplot as plt\n",
    "from ipywidgets import *\n",
    "\n",
    "from metric_spaces import MetricData\n",
    "from metric_spaces.sphere import Sphere, r2_to_angle\n",
    "from regression.forests import MetricRandomForest \n",
    "from regression.trees import MedoidTree\n",
    "\n",
    "%matplotlib inline\n",
    "%load_ext autoreload\n",
    "%autoreload 2\n",
    "\n",
    "def counted(f):\n",
    "    def wrapped(*args, **kwargs):\n",
    "        wrapped.calls += 1\n",
    "        return f(*args, **kwargs)\n",
    "    wrapped.calls = 0\n",
    "    return wrapped"
   ]
  },
  {
   "cell_type": "code",
   "execution_count": 29,
   "id": "95b58611",
   "metadata": {
    "ExecuteTime": {
     "end_time": "2023-03-24T20:36:43.892629Z",
     "start_time": "2023-03-24T20:36:43.822620Z"
    }
   },
   "outputs": [
    {
     "name": "stderr",
     "output_type": "stream",
     "text": [
      "[Parallel(n_jobs=-2)]: Using backend LokyBackend with 7 concurrent workers.\n",
      "[Parallel(n_jobs=-2)]: Done 100 out of 100 | elapsed:    0.0s finished\n"
     ]
    }
   ],
   "source": [
    "def gen_data(N, eps=0.1, d=3):\n",
    "    assert d >= 3\n",
    "    x = np.random.rand(N*d).reshape((N,d))\n",
    "    m = lambda x: 5 + 5*x[:,0]**2 + np.sin(20 * x[:,1]) - 10*x[:,2]**3 \n",
    "\n",
    "    theta = m(x) + eps*np.random.randn(N)\n",
    "    y = np.c_[np.cos(theta), np.sin(theta)]\n",
    "    return x, MetricData(Sphere(1), y)\n",
    "\n",
    "\n",
    "N = 100; eps = 0.5; d=3\n",
    "x_train, y_train = gen_data(N, eps, d)\n",
    "x_test, y_test = gen_data(100, eps, d)\n",
    "\n",
    "y_train.compute_distances()"
   ]
  },
  {
   "cell_type": "code",
   "execution_count": 30,
   "id": "a611e0f6",
   "metadata": {
    "ExecuteTime": {
     "end_time": "2023-03-24T20:36:44.679824Z",
     "start_time": "2023-03-24T20:36:44.597043Z"
    }
   },
   "outputs": [],
   "source": [
    "\n",
    "\n",
    "tree = MedoidTree().fit(x_train, y_train)\n"
   ]
  },
  {
   "cell_type": "code",
   "execution_count": 31,
   "id": "3a811d2d",
   "metadata": {
    "ExecuteTime": {
     "end_time": "2023-03-24T20:37:05.316637Z",
     "start_time": "2023-03-24T20:37:05.278570Z"
    }
   },
   "outputs": [
    {
     "data": {
      "text/plain": [
       "array([ 0.17743276, -0.98413293])"
      ]
     },
     "execution_count": 31,
     "metadata": {},
     "output_type": "execute_result"
    }
   ],
   "source": [
    "\n",
    "tree.predict(x_test[0,:])\n"
   ]
  },
  {
   "cell_type": "code",
   "execution_count": 3,
   "id": "3c58ec4f",
   "metadata": {
    "ExecuteTime": {
     "end_time": "2023-03-23T16:09:38.854607Z",
     "start_time": "2023-03-23T16:09:38.851880Z"
    }
   },
   "outputs": [],
   "source": [
    "preds = np.zeros((2, x_test.shape[0], 2))"
   ]
  },
  {
   "cell_type": "code",
   "execution_count": 82,
   "id": "d693c1fc",
   "metadata": {
    "ExecuteTime": {
     "end_time": "2023-03-24T00:07:09.573055Z",
     "start_time": "2023-03-24T00:07:02.131503Z"
    },
    "collapsed": true
   },
   "outputs": [
    {
     "ename": "KeyboardInterrupt",
     "evalue": "",
     "output_type": "error",
     "traceback": [
      "\u001b[0;31m---------------------------------------------------------------------------\u001b[0m",
      "\u001b[0;31mKeyboardInterrupt\u001b[0m                         Traceback (most recent call last)",
      "Cell \u001b[0;32mIn[82], line 1\u001b[0m\n\u001b[0;32m----> 1\u001b[0m D \u001b[38;5;241m=\u001b[39m \u001b[43mD_mat\u001b[49m\u001b[43m(\u001b[49m\u001b[43mM\u001b[49m\u001b[43m,\u001b[49m\u001b[43m \u001b[49m\u001b[43my_train\u001b[49m\u001b[43m)\u001b[49m\n\u001b[1;32m      2\u001b[0m forest_mrf \u001b[38;5;241m=\u001b[39m rf(\u001b[38;5;241m500\u001b[39m, x_train, D, \u001b[38;5;241m40\u001b[39m)\n\u001b[1;32m      4\u001b[0m \u001b[38;5;66;03m# N=200, s=150\u001b[39;00m\n\u001b[1;32m      5\u001b[0m \u001b[38;5;66;03m# CPU times: user 22.4 s, sys: 162 ms, total: 22.6 s\u001b[39;00m\n\u001b[1;32m      6\u001b[0m \u001b[38;5;66;03m# Wall time: 22.6 s\u001b[39;00m\n\u001b[0;32m   (...)\u001b[0m\n\u001b[1;32m     13\u001b[0m \u001b[38;5;66;03m# CPU times: user 2.02 s, sys: 12.4 ms, total: 2.04 s\u001b[39;00m\n\u001b[1;32m     14\u001b[0m \u001b[38;5;66;03m# Wall time: 2.04 s\u001b[39;00m\n",
      "File \u001b[0;32m~/Documents/university/phd/merf/metric_spaces/utils.py:16\u001b[0m, in \u001b[0;36mD_mat\u001b[0;34m(M, y)\u001b[0m\n\u001b[1;32m     14\u001b[0m \u001b[38;5;28;01mfor\u001b[39;00m i \u001b[38;5;129;01min\u001b[39;00m \u001b[38;5;28mrange\u001b[39m(N):\n\u001b[1;32m     15\u001b[0m     \u001b[38;5;28;01mfor\u001b[39;00m j \u001b[38;5;129;01min\u001b[39;00m \u001b[38;5;28mrange\u001b[39m(i\u001b[38;5;241m+\u001b[39m\u001b[38;5;241m1\u001b[39m,N):\n\u001b[0;32m---> 16\u001b[0m         D[i, j] \u001b[38;5;241m=\u001b[39m \u001b[43mM\u001b[49m\u001b[38;5;241;43m.\u001b[39;49m\u001b[43md\u001b[49m\u001b[43m(\u001b[49m\u001b[43mM\u001b[49m\u001b[38;5;241;43m.\u001b[39;49m\u001b[43mindex\u001b[49m\u001b[43m(\u001b[49m\u001b[43my\u001b[49m\u001b[43m,\u001b[49m\u001b[43m \u001b[49m\u001b[43mi\u001b[49m\u001b[43m)\u001b[49m\u001b[43m,\u001b[49m\u001b[43m \u001b[49m\u001b[43mM\u001b[49m\u001b[38;5;241;43m.\u001b[39;49m\u001b[43mindex\u001b[49m\u001b[43m(\u001b[49m\u001b[43my\u001b[49m\u001b[43m,\u001b[49m\u001b[43m \u001b[49m\u001b[43mj\u001b[49m\u001b[43m)\u001b[49m\u001b[43m)\u001b[49m\u001b[38;5;241m*\u001b[39m\u001b[38;5;241m*\u001b[39m\u001b[38;5;241m2\u001b[39m\n\u001b[1;32m     17\u001b[0m \u001b[38;5;28;01mreturn\u001b[39;00m D \u001b[38;5;241m+\u001b[39m D\u001b[38;5;241m.\u001b[39mT\n",
      "File \u001b[0;32m~/Documents/university/phd/merf/metric_spaces/circle.py:13\u001b[0m, in \u001b[0;36mSphere.d\u001b[0;34m(self, x, y)\u001b[0m\n\u001b[1;32m     12\u001b[0m \u001b[38;5;28;01mdef\u001b[39;00m \u001b[38;5;21md\u001b[39m(\u001b[38;5;28mself\u001b[39m, x, y):\n\u001b[0;32m---> 13\u001b[0m     \u001b[38;5;28;01mreturn\u001b[39;00m \u001b[43mnp\u001b[49m\u001b[38;5;241;43m.\u001b[39;49m\u001b[43msum\u001b[49m\u001b[43m(\u001b[49m\u001b[43mnp\u001b[49m\u001b[38;5;241;43m.\u001b[39;49m\u001b[43msquare\u001b[49m\u001b[43m(\u001b[49m\u001b[43mnp\u001b[49m\u001b[38;5;241;43m.\u001b[39;49m\u001b[43marccos\u001b[49m\u001b[43m(\u001b[49m\u001b[43mnp\u001b[49m\u001b[38;5;241;43m.\u001b[39;49m\u001b[43mdot\u001b[49m\u001b[43m(\u001b[49m\u001b[43mx\u001b[49m\u001b[43m,\u001b[49m\u001b[43my\u001b[49m\u001b[38;5;241;43m.\u001b[39;49m\u001b[43mT\u001b[49m\u001b[43m)\u001b[49m\u001b[43m)\u001b[49m\u001b[43m)\u001b[49m\u001b[43m,\u001b[49m\u001b[43m \u001b[49m\u001b[43maxis\u001b[49m\u001b[38;5;241;43m=\u001b[39;49m\u001b[38;5;241;43m0\u001b[39;49m\u001b[43m)\u001b[49m\n",
      "File \u001b[0;32m~/.pyenv/versions/3.9.16/lib/python3.9/site-packages/autograd/tracer.py:48\u001b[0m, in \u001b[0;36mprimitive.<locals>.f_wrapped\u001b[0;34m(*args, **kwargs)\u001b[0m\n\u001b[1;32m     46\u001b[0m     \u001b[38;5;28;01mreturn\u001b[39;00m new_box(ans, trace, node)\n\u001b[1;32m     47\u001b[0m \u001b[38;5;28;01melse\u001b[39;00m:\n\u001b[0;32m---> 48\u001b[0m     \u001b[38;5;28;01mreturn\u001b[39;00m \u001b[43mf_raw\u001b[49m\u001b[43m(\u001b[49m\u001b[38;5;241;43m*\u001b[39;49m\u001b[43margs\u001b[49m\u001b[43m,\u001b[49m\u001b[43m \u001b[49m\u001b[38;5;241;43m*\u001b[39;49m\u001b[38;5;241;43m*\u001b[39;49m\u001b[43mkwargs\u001b[49m\u001b[43m)\u001b[49m\n",
      "File \u001b[0;32m<__array_function__ internals>:180\u001b[0m, in \u001b[0;36msum\u001b[0;34m(*args, **kwargs)\u001b[0m\n",
      "File \u001b[0;32m~/.pyenv/versions/3.9.16/lib/python3.9/site-packages/numpy/core/fromnumeric.py:2298\u001b[0m, in \u001b[0;36msum\u001b[0;34m(a, axis, dtype, out, keepdims, initial, where)\u001b[0m\n\u001b[1;32m   2295\u001b[0m         \u001b[38;5;28;01mreturn\u001b[39;00m out\n\u001b[1;32m   2296\u001b[0m     \u001b[38;5;28;01mreturn\u001b[39;00m res\n\u001b[0;32m-> 2298\u001b[0m \u001b[38;5;28;01mreturn\u001b[39;00m \u001b[43m_wrapreduction\u001b[49m\u001b[43m(\u001b[49m\u001b[43ma\u001b[49m\u001b[43m,\u001b[49m\u001b[43m \u001b[49m\u001b[43mnp\u001b[49m\u001b[38;5;241;43m.\u001b[39;49m\u001b[43madd\u001b[49m\u001b[43m,\u001b[49m\u001b[43m \u001b[49m\u001b[38;5;124;43m'\u001b[39;49m\u001b[38;5;124;43msum\u001b[39;49m\u001b[38;5;124;43m'\u001b[39;49m\u001b[43m,\u001b[49m\u001b[43m \u001b[49m\u001b[43maxis\u001b[49m\u001b[43m,\u001b[49m\u001b[43m \u001b[49m\u001b[43mdtype\u001b[49m\u001b[43m,\u001b[49m\u001b[43m \u001b[49m\u001b[43mout\u001b[49m\u001b[43m,\u001b[49m\u001b[43m \u001b[49m\u001b[43mkeepdims\u001b[49m\u001b[38;5;241;43m=\u001b[39;49m\u001b[43mkeepdims\u001b[49m\u001b[43m,\u001b[49m\n\u001b[1;32m   2299\u001b[0m \u001b[43m                      \u001b[49m\u001b[43minitial\u001b[49m\u001b[38;5;241;43m=\u001b[39;49m\u001b[43minitial\u001b[49m\u001b[43m,\u001b[49m\u001b[43m \u001b[49m\u001b[43mwhere\u001b[49m\u001b[38;5;241;43m=\u001b[39;49m\u001b[43mwhere\u001b[49m\u001b[43m)\u001b[49m\n",
      "\u001b[0;31mKeyboardInterrupt\u001b[0m: "
     ]
    }
   ],
   "source": [
    "\n",
    "\n",
    "D = D_mat(M, y_train)\n",
    "forest_mrf = rf(500, x_train, D, 40)\n",
    "\n",
    "# N=200, s=150\n",
    "# CPU times: user 22.4 s, sys: 162 ms, total: 22.6 s\n",
    "# Wall time: 22.6 s\n",
    "\n",
    "# N=100,s=75\n",
    "# CPU times: user 4.3 s, sys: 486 ms, total: 4.78 s\n",
    "# Wall time: 3.89 s\n",
    "\n",
    "# N=50,s=40\n",
    "# CPU times: user 2.02 s, sys: 12.4 ms, total: 2.04 s\n",
    "# Wall time: 2.04 s"
   ]
  },
  {
   "cell_type": "code",
   "execution_count": 83,
   "id": "2de22bcd",
   "metadata": {
    "ExecuteTime": {
     "end_time": "2023-03-24T00:07:14.451409Z",
     "start_time": "2023-03-24T00:07:14.424554Z"
    }
   },
   "outputs": [],
   "source": [
    "def depth(node):\n",
    "    if not node.split:\n",
    "        return 1\n",
    "    else:\n",
    "        return 1 + max(depth(node.left), depth(node.right))\n",
    "    "
   ]
  },
  {
   "cell_type": "code",
   "execution_count": 84,
   "id": "9fc07d05",
   "metadata": {
    "ExecuteTime": {
     "end_time": "2023-03-24T00:07:52.023074Z",
     "start_time": "2023-03-24T00:07:30.539080Z"
    }
   },
   "outputs": [
    {
     "name": "stdout",
     "output_type": "stream",
     "text": [
      "10 1\n",
      "20 3\n",
      "40 7\n",
      "80 15\n",
      "160 35\n",
      "320 81\n",
      "640 157\n",
      "1240 299\n",
      "2500 591\n",
      "4000 963\n"
     ]
    }
   ],
   "source": [
    "ss = np.array([10, 20, 40, 80, 160, 320, 640, 1240, 2500, 4000])\n",
    "# cs_std = np.zeros_like(ss)\n",
    "cs_kmeans = np.zeros_like(ss)\n",
    "ds_kmeans = np.zeros_like(ss)\n",
    "\n",
    "for i in range(ss.shape[0]):\n",
    "    counter_fv = counted(M.frechet_var)\n",
    "    f = rf_kmeans(1, x_train, y_train, counter_fv, ss[i])\n",
    "    ds_kmeans[i] = depth(f[0])\n",
    "    cs_kmeans[i] = counter_fv.calls\n",
    "    \n",
    "#     counter_fv = counted(circle.frechet_var)\n",
    "#     forest_std = rf_std(1, x_train, y_train, counter_fv, ss[i])\n",
    "#     cs_std[i] = counter_fv.calls"
   ]
  },
  {
   "cell_type": "code",
   "execution_count": 65,
   "id": "2c000e98",
   "metadata": {
    "ExecuteTime": {
     "end_time": "2023-03-23T17:13:41.400377Z",
     "start_time": "2023-03-23T17:13:41.285011Z"
    }
   },
   "outputs": [
    {
     "data": {
      "text/plain": [
       "[<matplotlib.lines.Line2D at 0x1777189d0>]"
      ]
     },
     "execution_count": 65,
     "metadata": {},
     "output_type": "execute_result"
    },
    {
     "data": {
      "image/png": "[encoded data removed]",
      "text/plain": [
       "<Figure size 640x480 with 1 Axes>"
      ]
     },
     "metadata": {},
     "output_type": "display_data"
    }
   ],
   "source": [
    "# plt.plot(ss, [1, 3, 9, 23, 35, 73,155, 289, 605, 973])\n",
    "# plt.subplot(1,2,1)\n",
    "plt.scatter(ss, cs_kmeans, label='kmeans')\n",
    "plt.plot(ss, ss*d/5)\n",
    "# plt.subplot(1,2,2)\n",
    "# plt.scatter(ss, ds_kmeans, label='kmeans')\n",
    "# plt.plot(ss, np.log(ss))\n",
    "# plt.plot(ss,cs_std, label='std')"
   ]
  },
  {
   "cell_type": "code",
   "execution_count": 9,
   "id": "dcb4d4e3",
   "metadata": {},
   "outputs": [],
   "source": [
    "for i in range(x_test.shape[0]):\n",
    "    preds[0,i,:] = circle.fm(y_train, rf_weights(forest_mrf, x_test[i,:]))\n",
    "    preds[1,i,:] = circle.fm(y_train, rf_weights(forest_kmeans, x_test[i,:]))"
   ]
  },
  {
   "cell_type": "code",
   "execution_count": 10,
   "id": "e97e567f",
   "metadata": {},
   "outputs": [
    {
     "data": {
      "text/plain": [
       "array([2.03871592, 2.04108491])"
      ]
     },
     "execution_count": 10,
     "metadata": {},
     "output_type": "execute_result"
    },
    {
     "data": {
      "image/png": "[encoded data removed]",
      "text/plain": [
       "<Figure size 640x480 with 1 Axes>"
      ]
     },
     "metadata": {},
     "output_type": "display_data"
    }
   ],
   "source": [
    "%matplotlib inline\n",
    "errs = np.zeros((2, x_test.shape[0]))\n",
    "for i in range(x_test.shape[0]):\n",
    "    errs[0,i] = circle.d(y_test[i], preds[0,i,:])\n",
    "    errs[1,i] = circle.d(y_test[i], preds[1,i,:])\n",
    "\n",
    "plt.boxplot(errs[:,~np.isnan(errs[1,:])].T)\n",
    "\n",
    "errs[:,~np.isnan(errs[1,:])].mean(axis=1)"
   ]
  }
 ],
 "metadata": {
  "kernelspec": {
   "display_name": "Python 3 (ipykernel)",
   "language": "python",
   "name": "python3"
  },
  "language_info": {
   "codemirror_mode": {
    "name": "ipython",
    "version": 3
   },
   "file_extension": ".py",
   "mimetype": "text/x-python",
   "name": "python",
   "nbconvert_exporter": "python",
   "pygments_lexer": "ipython3",
   "version": "3.9.16"
  },
  "vscode": {
   "interpreter": {
    "hash": "fb7dcd7400b292ab01b3f150877c5370d1654dcad5a35f2a26fd2ded637de6e6"
   }
  }
 },
 "nbformat": 4,
 "nbformat_minor": 5
}
